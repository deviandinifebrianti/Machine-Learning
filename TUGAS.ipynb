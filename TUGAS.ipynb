{
  "nbformat": 4,
  "nbformat_minor": 0,
  "metadata": {
    "colab": {
      "provenance": [],
      "authorship_tag": "ABX9TyNOv8BZGaYMoQPFZhZgvL59",
      "include_colab_link": true
    },
    "kernelspec": {
      "name": "python3",
      "display_name": "Python 3"
    },
    "language_info": {
      "name": "python"
    }
  },
  "cells": [
    {
      "cell_type": "markdown",
      "metadata": {
        "id": "view-in-github",
        "colab_type": "text"
      },
      "source": [
        "<a href=\"https://colab.research.google.com/github/deviandinifebrianti/Machine-Learning/blob/main/TUGAS.ipynb\" target=\"_parent\"><img src=\"https://colab.research.google.com/assets/colab-badge.svg\" alt=\"Open In Colab\"/></a>"
      ]
    },
    {
      "cell_type": "markdown",
      "source": [
        "## **TUGAS**\n",
        "\n",
        "- Lakukan klasifikasi pada data MNIST dengan menggunakan model ANN\n",
        "- Anda diperbolehkan melakukan eksplorasi terhadap,\n",
        "  - Metode pra pengolahan\n",
        "  - Pemilihan fitur\n",
        "  - Arsitektur ANN\n",
        "  - Fungsi Aktiviasi\n",
        "- ANN diimplementasikan dengan menggunakan tensorflow.\n",
        "- DIKERJAKAN SECARA BERKELOMPOK\n",
        "- JELASKAN HASIL YANG ANDA DAPATKAN,\n",
        "  - AKURASI\n",
        "  - CONFUSION MATRIX\n",
        "  - KONFIGURASI MODEL --> MULAI DARI PRA PENGOLAHAN SAMPAI ARSITEKTUR ANN"
      ],
      "metadata": {
        "id": "Pd6brp4zoQ8N"
      }
    },
    {
      "cell_type": "code",
      "execution_count": 4,
      "metadata": {
        "colab": {
          "base_uri": "https://localhost:8080/"
        },
        "id": "0DZzePcBlfc7",
        "outputId": "244f3569-aac1-4df5-b06e-35671645dd23"
      },
      "outputs": [
        {
          "output_type": "stream",
          "name": "stderr",
          "text": [
            "/usr/local/lib/python3.10/dist-packages/sklearn/datasets/_openml.py:968: FutureWarning: The default value of `parser` will change from `'liac-arff'` to `'auto'` in 1.4. You can set `parser='auto'` to silence this warning. Therefore, an `ImportError` will be raised from 1.4 if the dataset is dense and pandas is not installed. Note that the pandas parser may return different data types. See the Notes Section in fetch_openml's API doc for details.\n",
            "  warn(\n"
          ]
        },
        {
          "output_type": "stream",
          "name": "stdout",
          "text": [
            "Epoch 1/10\n",
            "1400/1400 [==============================] - 23s 16ms/step - loss: 0.1802 - accuracy: 0.9455 - val_loss: 0.0718 - val_accuracy: 0.9779\n",
            "Epoch 2/10\n",
            "1400/1400 [==============================] - 18s 13ms/step - loss: 0.0567 - accuracy: 0.9821 - val_loss: 0.0687 - val_accuracy: 0.9779\n",
            "Epoch 3/10\n",
            "1400/1400 [==============================] - 19s 13ms/step - loss: 0.0364 - accuracy: 0.9883 - val_loss: 0.0560 - val_accuracy: 0.9827\n",
            "Epoch 4/10\n",
            "1400/1400 [==============================] - 18s 13ms/step - loss: 0.0241 - accuracy: 0.9921 - val_loss: 0.0554 - val_accuracy: 0.9835\n",
            "Epoch 5/10\n",
            "1400/1400 [==============================] - 19s 13ms/step - loss: 0.0172 - accuracy: 0.9946 - val_loss: 0.0538 - val_accuracy: 0.9845\n",
            "Epoch 6/10\n",
            "1400/1400 [==============================] - 18s 13ms/step - loss: 0.0128 - accuracy: 0.9958 - val_loss: 0.0649 - val_accuracy: 0.9843\n",
            "Epoch 7/10\n",
            "1400/1400 [==============================] - 19s 13ms/step - loss: 0.0112 - accuracy: 0.9965 - val_loss: 0.0514 - val_accuracy: 0.9880\n",
            "Epoch 8/10\n",
            "1400/1400 [==============================] - 19s 14ms/step - loss: 0.0089 - accuracy: 0.9970 - val_loss: 0.0652 - val_accuracy: 0.9837\n",
            "Epoch 9/10\n",
            "1400/1400 [==============================] - 18s 13ms/step - loss: 0.0083 - accuracy: 0.9974 - val_loss: 0.0799 - val_accuracy: 0.9827\n",
            "Epoch 10/10\n",
            "1400/1400 [==============================] - 19s 13ms/step - loss: 0.0067 - accuracy: 0.9978 - val_loss: 0.0721 - val_accuracy: 0.9834\n",
            "438/438 [==============================] - 2s 4ms/step - loss: 0.0790 - accuracy: 0.9830\n",
            "Akurasi pada data pengujian: 0.98\n"
          ]
        }
      ],
      "source": [
        "import tensorflow as tf\n",
        "from keras import layers, models\n",
        "from sklearn.datasets import fetch_openml\n",
        "from sklearn.model_selection import train_test_split\n",
        "import numpy as np\n",
        "import matplotlib.pyplot as plt\n",
        "\n",
        "# Unduh dataset MNIST dari scikit-learn\n",
        "mnist = fetch_openml('mnist_784')\n",
        "\n",
        "# Pisahkan data gambar dan label\n",
        "gambar = mnist.data.astype('float32')\n",
        "label = mnist.target.astype('int')\n",
        "\n",
        "# Langkah 1: Pra-pemrosesan\n",
        "gambar /= 255.0  # Skalakan data\n",
        "\n",
        "# Bagi data menjadi data pelatihan dan pengujian (split data)\n",
        "train_images, test_images, train_labels, test_labels = train_test_split(\n",
        "    gambar, label, test_size=0.2, random_state=42)\n",
        "\n",
        "# Langkah 2: Definisikan arsitektur model ANN\n",
        "model = models.Sequential([\n",
        "    layers.Reshape(target_shape=(28, 28, 1), input_shape=(784,)),\n",
        "    layers.Conv2D(32, (3, 3), activation='relu', input_shape=(28, 28, 1)),\n",
        "    layers.MaxPooling2D((2, 2)),\n",
        "    layers.Flatten(),\n",
        "    layers.Dense(128, activation='relu'),\n",
        "    layers.Dense(64, activation='relu'),\n",
        "    layers.Dense(10, activation='softmax')\n",
        "])\n",
        "\n",
        "# Langkah 3: Kompilasi model\n",
        "model.compile(optimizer='adam',\n",
        "              loss='sparse_categorical_crossentropy',\n",
        "              metrics=['accuracy'])\n",
        "\n",
        "# Langkah 4: Latih model\n",
        "history = model.fit(train_images, train_labels,\n",
        "                    epochs=10, validation_split=0.2)\n",
        "\n",
        "# Langkah 5: Akurasi\n",
        "test_loss, test_acc = model.evaluate(test_images, test_labels)\n",
        "print(f'Akurasi pada data pengujian: {test_acc:.2f}')"
      ]
    },
    {
      "cell_type": "markdown",
      "source": [
        "Penjelasan:\n",
        "1. Pra-pemrosesan\n",
        "\n",
        "- Pada langkah ini dilakukan untuk mengubah rentang nilai piksel gambar dari [0, 255] menjadi [0, 1] atau [0, 255] menjadi [0, 255] sesuai kebutuhan.\n",
        "- Membagi data gambar dan label ke dalam dua set terpisah (data pelatihan dan data pengujian)\n",
        "\n",
        "2. Akurasi tersebut menunjukkan akurasi yang tinggi, sehingga dapat dikatakan bahwa akurasi 0.98 dapat memprediksi data dengan baik"
      ],
      "metadata": {
        "id": "YmD4YharIhb5"
      }
    },
    {
      "cell_type": "code",
      "source": [
        "# Evaluasi akurasi data pelatihan\n",
        "train_loss, train_acc = model.evaluate(train_images, train_labels)\n",
        "print(f'Akurasi pada data pelatihan: {train_acc:.2f}')"
      ],
      "metadata": {
        "colab": {
          "base_uri": "https://localhost:8080/"
        },
        "id": "nLGGrQiRoYVJ",
        "outputId": "d0ee7d31-4bc6-4678-e4ad-6fe78cb5d748"
      },
      "execution_count": null,
      "outputs": [
        {
          "output_type": "stream",
          "name": "stdout",
          "text": [
            "1750/1750 [==============================] - 6s 4ms/step - loss: 0.0167 - accuracy: 0.9954\n",
            "Akurasi pada data pelatihan: 1.00\n"
          ]
        }
      ]
    },
    {
      "cell_type": "code",
      "source": [
        "from sklearn.metrics import confusion_matrix\n",
        "\n",
        "# Membuat prediksi pada data pengujian\n",
        "predictions = model.predict(test_images)\n",
        "predicted_labels = np.argmax(predictions, axis=1)\n",
        "\n",
        "# Membuat matriks kebingungan\n",
        "confusion = confusion_matrix(test_labels, predicted_labels)\n",
        "print('Matriks Kebingungan:')\n",
        "print(confusion)"
      ],
      "metadata": {
        "colab": {
          "base_uri": "https://localhost:8080/"
        },
        "id": "jdc-DkhvoeDz",
        "outputId": "b40624b9-5368-49af-8b04-e43113e43f8d"
      },
      "execution_count": null,
      "outputs": [
        {
          "output_type": "stream",
          "name": "stdout",
          "text": [
            "438/438 [==============================] - 2s 4ms/step\n",
            "Matriks Kebingungan:\n",
            "[[1335    0    1    0    0    2    2    1    2    0]\n",
            " [   1 1588    1    1    0    1    1    4    1    2]\n",
            " [   0    6 1350    3    4    1    0   10    4    2]\n",
            " [   0    0    3 1406    0   12    0    6    2    4]\n",
            " [   1    0    1    0 1284    1    0    2    1    5]\n",
            " [   0    2    0    6    0 1262    2    0    1    0]\n",
            " [   3    2    0    0    4    7 1378    0    2    0]\n",
            " [   2    3    2    0    4    0    0 1489    0    3]\n",
            " [   1    3    4    7    0    6    3    4 1319   10]\n",
            " [   3    1    1    1   14   14    0    5    4 1377]]\n"
          ]
        }
      ]
    },
    {
      "cell_type": "markdown",
      "source": [
        "Penjelasan:\n",
        "1. Evaluasi Model pada Data Pengujian\n",
        "untuk mengetahui seberapa baik model yang dijalankan dalam melakukan klasifikasi pada data baru dan tidak terlihat sebelumnya setelah mengevaluasi model pada data pengujian\n",
        "\n",
        "2. Confusion Matrix\n",
        "- Matriks yang digunakan untuk mengevaluasi kinerja dari suatu model klasifikasi\n",
        "- Matriks kebingungan tersebut memiliki 10 baris dan 10 kolom. Cara bacanya adalah dari atas ke bawah dan dari kiri ke kanan"
      ],
      "metadata": {
        "id": "Po1IMsh2PgUh"
      }
    }
  ]
}