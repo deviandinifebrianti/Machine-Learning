{
  "cells": [
    {
      "cell_type": "markdown",
      "metadata": {
        "id": "view-in-github",
        "colab_type": "text"
      },
      "source": [
        "<a href=\"https://colab.research.google.com/github/deviandinifebrianti/Machine-Learning/blob/main/Praktikum_%26_Tugas.ipynb\" target=\"_parent\"><img src=\"https://colab.research.google.com/assets/colab-badge.svg\" alt=\"Open In Colab\"/></a>"
      ]
    },
    {
      "cell_type": "markdown",
      "source": [
        "# Praktikum 1\n",
        "RNN untuk Analisis Sentimen"
      ],
      "metadata": {
        "id": "jyYqIx2tSUo5"
      }
    },
    {
      "cell_type": "markdown",
      "source": [
        "# **Setup**"
      ],
      "metadata": {
        "id": "s918Z9Z6SdIM"
      }
    },
    {
      "cell_type": "code",
      "execution_count": null,
      "metadata": {
        "id": "L-TCJAgHMMzg"
      },
      "outputs": [],
      "source": [
        "import numpy as np\n",
        "import tensorflow_datasets as tfds\n",
        "import tensorflow as tf\n",
        "\n",
        "tfds.disable_progress_bar()"
      ]
    },
    {
      "cell_type": "code",
      "execution_count": null,
      "metadata": {
        "id": "NXA1_J8WQkqq"
      },
      "outputs": [],
      "source": [
        "import matplotlib.pyplot as plt #membuat grafik dan visualisasi\n",
        "\n",
        "def plot_graphs(history, metric):#definisiakn fungsi plot_graphs untuk buat rafik\n",
        "  plt.plot(history.history[metric]) #buat grafik untuk perubahan metrik saat pelatihan dari objek history\n",
        "  plt.plot(history.history['val_'+metric], '') #Buat grafik metrik validasi\n",
        "  plt.xlabel(\"Epochs\")#memberi label pada sumbu x\n",
        "  plt.ylabel(metric)#memberi label pada sumbu y\n",
        "  plt.legend([metric, 'val_'+metric])#"
      ]
    },
    {
      "cell_type": "markdown",
      "metadata": {
        "id": "wFMEtVglTcXV"
      },
      "source": [
        "# **Setup input pipeline**"
      ]
    },
    {
      "cell_type": "code",
      "execution_count": null,
      "metadata": {
        "colab": {
          "base_uri": "https://localhost:8080/"
        },
        "id": "OWD6wbTpQlOT",
        "outputId": "886f722d-b06b-4a79-a79d-ca16ba4f2487"
      },
      "outputs": [
        {
          "data": {
            "text/plain": [
              "(TensorSpec(shape=(), dtype=tf.string, name=None),\n",
              " TensorSpec(shape=(), dtype=tf.int64, name=None))"
            ]
          },
          "execution_count": 43,
          "metadata": {},
          "output_type": "execute_result"
        }
      ],
      "source": [
        "dataset, info = tfds.load('imdb_reviews', with_info=True,\n",
        "                          as_supervised=True)\n",
        "train_dataset, test_dataset = dataset['train'], dataset['test']\n",
        "\n",
        "train_dataset.element_spec"
      ]
    },
    {
      "cell_type": "code",
      "execution_count": null,
      "metadata": {
        "colab": {
          "base_uri": "https://localhost:8080/"
        },
        "id": "kq2FSDRuRkGA",
        "outputId": "9173b702-e059-4a34-d0a6-27b0097900b6"
      },
      "outputs": [
        {
          "name": "stdout",
          "output_type": "stream",
          "text": [
            "text:  b\"This was an absolutely terrible movie. Don't be lured in by Christopher Walken or Michael Ironside. Both are great actors, but this must simply be their worst role in history. Even their great acting could not redeem this movie's ridiculous storyline. This movie is an early nineties US propaganda piece. The most pathetic scenes were those when the Columbian rebels were making their cases for revolutions. Maria Conchita Alonso appeared phony, and her pseudo-love affair with Walken was nothing but a pathetic emotional plug in a movie that was devoid of any real meaning. I am disappointed that there are movies like this, ruining actor's like Christopher Walken's good name. I could barely sit through it.\"\n",
            "label:  0\n"
          ]
        }
      ],
      "source": [
        "for example, label in train_dataset.take(1):\n",
        "  print('text: ', example.numpy())\n",
        "  print('label: ', label.numpy())"
      ]
    },
    {
      "cell_type": "code",
      "execution_count": null,
      "metadata": {
        "colab": {
          "base_uri": "https://localhost:8080/"
        },
        "id": "q6XG9QoSTxMR",
        "outputId": "15e15512-7c34-4e6a-e995-ab51a9b4b7d7"
      },
      "outputs": [
        {
          "name": "stdout",
          "output_type": "stream",
          "text": [
            "texts:  [b'Watching this Movie? l thought to myself, what a lot of garbage. These girls must have rocks for brains for even agreeing to be part of it. Waste of time watching it, faint heavens l only hired it. The acting was below standard and story was unbearable. Anyone contemplating watching this film, please save your money. The film has no credit at all. l am a real film buff and this is worse than \"Attack of the Green Tomatoes\".<br /><br />l only hope that this piece of trash didn\\'t cost too much to make. Money would have been better spent on the homeless people of the world. l only hope there isn\\'t a sequel in the pipeline.'\n",
            " b'I remember a certain Tuesday, the morning of 18/6/02 to be exact. I was dozed off, trying to convince myself to get out of bed when a horrific explosion was heard. I went to the kitchen where I have a view of several neighborhoods in the southern Jerusalem and saw a pillar of smoke rising from a distant point, the sight of the smoke was followed a minute later by the waling of sirens. I remember rushing to my bedroom, taking out my binoculars, racing back to the kitchen and spotting the image of a glass shattered bus. The bus was still near the pick up station where a terrorist boarded on it and with a single click on a TNT device, murdered 25 passengers, many of whom were on their way to school. The wife of a good friend of mine, sat on the bus at the back row, a seemingly arbitrary and meaningless decision that saved her life.<br /><br />I\\'m sure that every Israeli has at least one terror-related memory he wishes he never would have had and it was only a matter of time before someone made a film about it. As it turned out, the movie was about to become a repressed memory of its own.<br /><br />The film is about a play-write on a dry run, Haim Buzaglo (portrayed by, hmmm, Haim Buzaglo who also wrote and directed the film) that spends the better part of his day conducting staring contests with his blank word processor page. In the meantime, his girlfriend, a field reporter for the Israeli commercial channel, decides to make a piece about a debt ridden ex-army officer. Buzaglo, bored and a bit paranoid due what is medically known as the \"what on earth this hot babe is dating me\" syndrome, asks a private eye to conduct a stakeout on his girlfriend.<br /><br />As the detective progresses in his investigation, his observations are permeating into the play and later on, to the lives of its actors. In the meantime, the play metamorphoses from a comic play into an indictment against the aloofness of the Israeli society. As for the movie, well, the movie becomes an exercise in frenzy editing, ensconced in its petty cardboard characters and unreliable dialogs while drifting miles away from the subject it was supposed to deal with in the first place.<br /><br />When I say \"cardboard characters\" I refer to the characters that under the writer/director\\'s obsession for a \"meaningful\" film, were devoid of any genuine dialogs and any shred of reliability. I won\\'t elaborate too much about it. Suffice to say that I\\'m sure that homeless barefoot male prostitutes rarely go the theater. With the intention to see a play, that is.<br /><br />This movie, according to Haim Buzaglo himself is the first part of a current agenda trilogy. I sincerely hope that the other two films will be derived from the experiences like the one I wrote about in the beginning of my review as opposed to the secluded world of characters that are anything but existent and a plot that is anything but compelling.<br /><br />4 out of 10 in my FilmOmeter.<br /><br />P.S. This movie was a landmark in austerity. It was shot in ten days, all the cast worked for free and the entire cost of the film was about 12,000$ (no, I didn\\'t omit a zero or two, twelve thousand dollars). Makes you wonder why it took 34,000$ to complete Blair witch project.'\n",
            " b'I caught this at a test screening. All I can say is: What...the...hell? This movie plays out about as smoothly as Mickey Mouse reading the script for \"Scarface.\" It\\'s bizarre beyond making the slightest bit of sense; and even if you do leave your brain in the car, the film is still so bizarre that it isn\\'t even funny.<br /><br />The plot involves crocodile hunter Steve Irwin trying to \"save\" a crocodile which contains a CIA probe. The CIA comes after Irwin to get their probe back, Irwin mistakes them for poachers, and sets out to \"stop\" them.<br /><br />That\\'s about all the story there is; the rest is over-the-top lampooning of Australian culture (\"Didja see dat?\" and \"Crikey!\") and strangely choreographed action sequences. At one point, Irwin mounts a speeding RV and knife fights with a CIA agent on top of it. Yes, that\\'s right: Steve Irwin knife fights a guy on top of an RV. Let that be your guide for this ridiculously bad film.']\n",
            "\n",
            "labels:  [0 0 0]\n"
          ]
        }
      ],
      "source": [
        "BUFFER_SIZE = 10000\n",
        "BATCH_SIZE = 64\n",
        "\n",
        "train_dataset = train_dataset.shuffle(BUFFER_SIZE).batch(BATCH_SIZE).prefetch(tf.data.AUTOTUNE)\n",
        "test_dataset = test_dataset.batch(BATCH_SIZE).prefetch(tf.data.AUTOTUNE)\n",
        "\n",
        "for example, label in train_dataset.take(1):\n",
        "  print('texts: ', example.numpy()[:3])\n",
        "  print()\n",
        "  print('labels: ', label.numpy()[:3])\n"
      ]
    },
    {
      "cell_type": "markdown",
      "metadata": {
        "id": "W8eQiwXKUIo-"
      },
      "source": [
        "# **Buat Teks Encoder**"
      ]
    },
    {
      "cell_type": "code",
      "execution_count": null,
      "metadata": {
        "id": "9XtMc_9xUGmU"
      },
      "outputs": [],
      "source": [
        "VOCAB_SIZE = 1000\n",
        "encoder = tf.keras.layers.TextVectorization(\n",
        "    max_tokens=VOCAB_SIZE)\n",
        "encoder.adapt(train_dataset.map(lambda text, label: text))"
      ]
    },
    {
      "cell_type": "code",
      "execution_count": null,
      "metadata": {
        "colab": {
          "base_uri": "https://localhost:8080/"
        },
        "id": "CQ--1tLiUN2l",
        "outputId": "3a1ca023-dd82-4990-baac-3660d69c146a"
      },
      "outputs": [
        {
          "data": {
            "text/plain": [
              "array(['', '[UNK]', 'the', 'and', 'a', 'of', 'to', 'is', 'in', 'it', 'i',\n",
              "       'this', 'that', 'br', 'was', 'as', 'for', 'with', 'movie', 'but'],\n",
              "      dtype='<U14')"
            ]
          },
          "execution_count": 47,
          "metadata": {},
          "output_type": "execute_result"
        }
      ],
      "source": [
        "#encoder.get_vocabulary() untuk mendapatkan kosakata yang telah dibangun oleh layer TextVectorization\n",
        "  #kemudian mengonversinya menjadi array numpy\n",
        "vocab=np.array(encoder.get_vocabulary())\n",
        "vocab[:20]#cetak 20 ata peratam dalam kosakata"
      ]
    },
    {
      "cell_type": "code",
      "execution_count": null,
      "metadata": {
        "colab": {
          "base_uri": "https://localhost:8080/"
        },
        "id": "1edSH3ntUQKV",
        "outputId": "a7765492-504d-46af-d4cd-807e63d435a2"
      },
      "outputs": [
        {
          "data": {
            "text/plain": [
              "array([[147,  11,  18, ...,   0,   0,   0],\n",
              "       [ 10, 364,   4, ...,   0,   0,   0],\n",
              "       [ 10,   1,  11, ...,   0,   0,   0]])"
            ]
          },
          "execution_count": 48,
          "metadata": {},
          "output_type": "execute_result"
        }
      ],
      "source": [
        "encoded_example=encoder(example)[:3].numpy()\n",
        "encoded_example"
      ]
    },
    {
      "cell_type": "code",
      "execution_count": null,
      "metadata": {
        "colab": {
          "base_uri": "https://localhost:8080/"
        },
        "id": "7nV3GtlTU0EK",
        "outputId": "d8a7645b-c0af-4c5e-8c6c-63bba467d329"
      },
      "outputs": [
        {
          "name": "stdout",
          "output_type": "stream",
          "text": [
            "Original:  b'Watching this Movie? l thought to myself, what a lot of garbage. These girls must have rocks for brains for even agreeing to be part of it. Waste of time watching it, faint heavens l only hired it. The acting was below standard and story was unbearable. Anyone contemplating watching this film, please save your money. The film has no credit at all. l am a real film buff and this is worse than \"Attack of the Green Tomatoes\".<br /><br />l only hope that this piece of trash didn\\'t cost too much to make. Money would have been better spent on the homeless people of the world. l only hope there isn\\'t a sequel in the pipeline.'\n",
            "Round-trip:  watching this movie [UNK] thought to myself what a lot of [UNK] these girls must have [UNK] for [UNK] for even [UNK] to be part of it waste of time watching it [UNK] [UNK] [UNK] only [UNK] it the acting was [UNK] [UNK] and story was [UNK] anyone [UNK] watching this film please save your money the film has no [UNK] at all [UNK] am a real film [UNK] and this is worse than [UNK] of the [UNK] [UNK] br [UNK] only hope that this piece of [UNK] didnt [UNK] too much to make money would have been better [UNK] on the [UNK] people of the world [UNK] only hope there isnt a sequel in the [UNK]                                                                                                                                                                                                                                                                                                                                                                                                                                                                                                                                                                                                 \n",
            "\n",
            "Original:  b'I remember a certain Tuesday, the morning of 18/6/02 to be exact. I was dozed off, trying to convince myself to get out of bed when a horrific explosion was heard. I went to the kitchen where I have a view of several neighborhoods in the southern Jerusalem and saw a pillar of smoke rising from a distant point, the sight of the smoke was followed a minute later by the waling of sirens. I remember rushing to my bedroom, taking out my binoculars, racing back to the kitchen and spotting the image of a glass shattered bus. The bus was still near the pick up station where a terrorist boarded on it and with a single click on a TNT device, murdered 25 passengers, many of whom were on their way to school. The wife of a good friend of mine, sat on the bus at the back row, a seemingly arbitrary and meaningless decision that saved her life.<br /><br />I\\'m sure that every Israeli has at least one terror-related memory he wishes he never would have had and it was only a matter of time before someone made a film about it. As it turned out, the movie was about to become a repressed memory of its own.<br /><br />The film is about a play-write on a dry run, Haim Buzaglo (portrayed by, hmmm, Haim Buzaglo who also wrote and directed the film) that spends the better part of his day conducting staring contests with his blank word processor page. In the meantime, his girlfriend, a field reporter for the Israeli commercial channel, decides to make a piece about a debt ridden ex-army officer. Buzaglo, bored and a bit paranoid due what is medically known as the \"what on earth this hot babe is dating me\" syndrome, asks a private eye to conduct a stakeout on his girlfriend.<br /><br />As the detective progresses in his investigation, his observations are permeating into the play and later on, to the lives of its actors. In the meantime, the play metamorphoses from a comic play into an indictment against the aloofness of the Israeli society. As for the movie, well, the movie becomes an exercise in frenzy editing, ensconced in its petty cardboard characters and unreliable dialogs while drifting miles away from the subject it was supposed to deal with in the first place.<br /><br />When I say \"cardboard characters\" I refer to the characters that under the writer/director\\'s obsession for a \"meaningful\" film, were devoid of any genuine dialogs and any shred of reliability. I won\\'t elaborate too much about it. Suffice to say that I\\'m sure that homeless barefoot male prostitutes rarely go the theater. With the intention to see a play, that is.<br /><br />This movie, according to Haim Buzaglo himself is the first part of a current agenda trilogy. I sincerely hope that the other two films will be derived from the experiences like the one I wrote about in the beginning of my review as opposed to the secluded world of characters that are anything but existent and a plot that is anything but compelling.<br /><br />4 out of 10 in my FilmOmeter.<br /><br />P.S. This movie was a landmark in austerity. It was shot in ten days, all the cast worked for free and the entire cost of the film was about 12,000$ (no, I didn\\'t omit a zero or two, twelve thousand dollars). Makes you wonder why it took 34,000$ to complete Blair witch project.'\n",
            "Round-trip:  i remember a certain [UNK] the [UNK] of [UNK] to be [UNK] i was [UNK] off trying to [UNK] myself to get out of [UNK] when a [UNK] [UNK] was heard i went to the [UNK] where i have a view of several [UNK] in the [UNK] [UNK] and saw a [UNK] of [UNK] [UNK] from a [UNK] point the [UNK] of the [UNK] was [UNK] a minute later by the [UNK] of [UNK] i remember [UNK] to my [UNK] taking out my [UNK] [UNK] back to the [UNK] and [UNK] the [UNK] of a [UNK] [UNK] [UNK] the [UNK] was still near the [UNK] up [UNK] where a [UNK] [UNK] on it and with a single [UNK] on a [UNK] [UNK] [UNK] [UNK] [UNK] many of whom were on their way to school the wife of a good friend of [UNK] [UNK] on the [UNK] at the back [UNK] a [UNK] [UNK] and [UNK] [UNK] that [UNK] her [UNK] br im sure that every [UNK] has at least one [UNK] [UNK] he [UNK] he never would have had and it was only a matter of time before someone made a film about it as it turned out the movie was about to become a [UNK] [UNK] of its [UNK] br the film is about a [UNK] on a [UNK] run [UNK] [UNK] portrayed by [UNK] [UNK] [UNK] who also [UNK] and directed the film that [UNK] the better part of his day [UNK] [UNK] [UNK] with his [UNK] word [UNK] [UNK] in the [UNK] his [UNK] a [UNK] [UNK] for the [UNK] [UNK] [UNK] [UNK] to make a piece about a [UNK] [UNK] [UNK] [UNK] [UNK] [UNK] and a bit [UNK] due what is [UNK] known as the what on earth this hot [UNK] is [UNK] me [UNK] [UNK] a [UNK] eye to [UNK] a [UNK] on his [UNK] br as the [UNK] [UNK] in his [UNK] his [UNK] are [UNK] into the play and later on to the lives of its actors in the [UNK] the play [UNK] from a comic play into an [UNK] against the [UNK] of the [UNK] society as for the movie well the movie becomes an [UNK] in [UNK] editing [UNK] in its [UNK] [UNK] characters and [UNK] [UNK] while [UNK] [UNK] away from the subject it was supposed to deal with in the first [UNK] br when i say [UNK] characters i [UNK] to the characters that under the [UNK] [UNK] for a [UNK] film were [UNK] of any [UNK] [UNK] and any [UNK] of [UNK] i wont [UNK] too much about it [UNK] to say that im sure that [UNK] [UNK] male [UNK] [UNK] go the theater with the [UNK] to see a play that [UNK] br this movie [UNK] to [UNK] [UNK] himself is the first part of a [UNK] [UNK] [UNK] i [UNK] hope that the other two films will be [UNK] from the [UNK] like the one i [UNK] about in the beginning of my review as [UNK] to the [UNK] world of characters that are anything but [UNK] and a plot that is anything but [UNK] br 4 out of 10 in my [UNK] br [UNK] this movie was a [UNK] in [UNK] it was shot in ten days all the cast worked for free and the entire [UNK] of the film was about [UNK] no i didnt [UNK] a [UNK] or two [UNK] [UNK] [UNK] makes you wonder why it took [UNK] to complete [UNK] [UNK] [UNK]                                                                                                                 \n",
            "\n",
            "Original:  b'I caught this at a test screening. All I can say is: What...the...hell? This movie plays out about as smoothly as Mickey Mouse reading the script for \"Scarface.\" It\\'s bizarre beyond making the slightest bit of sense; and even if you do leave your brain in the car, the film is still so bizarre that it isn\\'t even funny.<br /><br />The plot involves crocodile hunter Steve Irwin trying to \"save\" a crocodile which contains a CIA probe. The CIA comes after Irwin to get their probe back, Irwin mistakes them for poachers, and sets out to \"stop\" them.<br /><br />That\\'s about all the story there is; the rest is over-the-top lampooning of Australian culture (\"Didja see dat?\" and \"Crikey!\") and strangely choreographed action sequences. At one point, Irwin mounts a speeding RV and knife fights with a CIA agent on top of it. Yes, that\\'s right: Steve Irwin knife fights a guy on top of an RV. Let that be your guide for this ridiculously bad film.'\n",
            "Round-trip:  i [UNK] this at a [UNK] [UNK] all i can say is [UNK] this movie plays out about as [UNK] as [UNK] [UNK] reading the script for [UNK] its [UNK] beyond making the [UNK] bit of sense and even if you do leave your [UNK] in the car the film is still so [UNK] that it isnt even [UNK] br the plot [UNK] [UNK] [UNK] [UNK] [UNK] trying to save a [UNK] which [UNK] a [UNK] [UNK] the [UNK] comes after [UNK] to get their [UNK] back [UNK] [UNK] them for [UNK] and sets out to stop [UNK] br thats about all the story there is the rest is [UNK] [UNK] of [UNK] [UNK] [UNK] see [UNK] and [UNK] and [UNK] [UNK] action sequences at one point [UNK] [UNK] a [UNK] [UNK] and [UNK] [UNK] with a [UNK] [UNK] on top of it yes thats right [UNK] [UNK] [UNK] [UNK] a guy on top of an [UNK] let that be your [UNK] for this [UNK] bad film                                                                                                                                                                                                                                                                                                                                                                                                                                                                                                                                               \n",
            "\n"
          ]
        }
      ],
      "source": [
        "for n in range(3):\n",
        "  print(\"Original: \", example[n].numpy())\n",
        "  print(\"Round-trip: \", \" \".join(vocab[encoded_example[n]]))\n",
        "  print()"
      ]
    },
    {
      "cell_type": "markdown",
      "metadata": {
        "id": "GIpERhQMYYhM"
      },
      "source": [
        "# **Buat Model**"
      ]
    },
    {
      "cell_type": "code",
      "execution_count": null,
      "metadata": {
        "id": "9bRmVhtjYW2N"
      },
      "outputs": [],
      "source": [
        "model = tf.keras.Sequential([\n",
        "    encoder,\n",
        "    tf.keras.layers.Embedding(\n",
        "        input_dim=len(encoder.get_vocabulary()),\n",
        "        output_dim=64,\n",
        "        # Use masking to handle the variable sequence lengths\n",
        "        mask_zero=True),\n",
        "    tf.keras.layers.Bidirectional(tf.keras.layers.LSTM(64)),\n",
        "    tf.keras.layers.Dense(64, activation='relu'),\n",
        "    tf.keras.layers.Dense(1)\n",
        "])"
      ]
    },
    {
      "cell_type": "code",
      "execution_count": null,
      "metadata": {
        "colab": {
          "base_uri": "https://localhost:8080/"
        },
        "id": "5zOL1GGrYe2p",
        "outputId": "1234faf4-9291-420c-d1f1-92f2af074886"
      },
      "outputs": [
        {
          "name": "stdout",
          "output_type": "stream",
          "text": [
            "[False, True, True, True, True]\n"
          ]
        }
      ],
      "source": [
        "#cetak apakah setiap lapisan (layer) dalam model mendukung masking atau tidak\n",
        "print([layer.supports_masking for layer in model.layers])"
      ]
    },
    {
      "cell_type": "markdown",
      "metadata": {
        "id": "Z6SPDO6TYsSc"
      },
      "source": [
        "# **Penjelasan**\n",
        "Jadi lapisan pertama tidak mendukung masking, 4 lapisan berikutnya mendukung adanya masking"
      ]
    },
    {
      "cell_type": "code",
      "execution_count": null,
      "metadata": {
        "colab": {
          "base_uri": "https://localhost:8080/"
        },
        "id": "TKq6rwoDYhH0",
        "outputId": "ed478d6d-d4df-4e46-f1ae-3f3b665665be"
      },
      "outputs": [
        {
          "name": "stdout",
          "output_type": "stream",
          "text": [
            "1/1 [==============================] - 4s 4s/step\n",
            "[-0.00719058]\n"
          ]
        }
      ],
      "source": [
        "\n",
        "# predict on a sample text without padding.\n",
        "\n",
        "sample_text = ('The movie was cool. The animation and the graphics '\n",
        "               'were out of this world. I would recommend this movie.')\n",
        "predictions = model.predict(np.array([sample_text]))\n",
        "print(predictions[0])"
      ]
    },
    {
      "cell_type": "code",
      "execution_count": null,
      "metadata": {
        "colab": {
          "base_uri": "https://localhost:8080/"
        },
        "id": "850LBrEnY7cW",
        "outputId": "e42cf165-de61-4e5a-c116-b38f31e26531"
      },
      "outputs": [
        {
          "name": "stdout",
          "output_type": "stream",
          "text": [
            "1/1 [==============================] - 0s 64ms/step\n",
            "[-0.00719058]\n"
          ]
        }
      ],
      "source": [
        "# predict on a sample text with padding\n",
        "\n",
        "padding = \"the \" * 2000\n",
        "predictions = model.predict(np.array([sample_text, padding]))\n",
        "print(predictions[0])"
      ]
    },
    {
      "cell_type": "code",
      "execution_count": null,
      "metadata": {
        "id": "fuN-EnU2ZBkm"
      },
      "outputs": [],
      "source": [
        "model.compile(loss=tf.keras.losses.BinaryCrossentropy(from_logits=True),\n",
        "              optimizer=tf.keras.optimizers.Adam(1e-4),\n",
        "              metrics=['accuracy'])"
      ]
    },
    {
      "cell_type": "markdown",
      "metadata": {
        "id": "92vhGq5UZHVY"
      },
      "source": [
        "# **Train Model**"
      ]
    },
    {
      "cell_type": "code",
      "execution_count": null,
      "metadata": {
        "colab": {
          "base_uri": "https://localhost:8080/"
        },
        "id": "0x1wcVvNZJsv",
        "outputId": "3f868433-61a8-4cae-9750-59699eb85dd5"
      },
      "outputs": [
        {
          "name": "stdout",
          "output_type": "stream",
          "text": [
            "Epoch 1/10\n",
            "391/391 [==============================] - 46s 95ms/step - loss: 0.6079 - accuracy: 0.6106 - val_loss: 0.4294 - val_accuracy: 0.7922\n",
            "Epoch 2/10\n",
            "391/391 [==============================] - 26s 65ms/step - loss: 0.3763 - accuracy: 0.8299 - val_loss: 0.3440 - val_accuracy: 0.8484\n",
            "Epoch 3/10\n",
            "391/391 [==============================] - 26s 67ms/step - loss: 0.3320 - accuracy: 0.8547 - val_loss: 0.3365 - val_accuracy: 0.8542\n",
            "Epoch 4/10\n",
            "391/391 [==============================] - 25s 65ms/step - loss: 0.3189 - accuracy: 0.8615 - val_loss: 0.3289 - val_accuracy: 0.8583\n",
            "Epoch 5/10\n",
            "391/391 [==============================] - 25s 64ms/step - loss: 0.3124 - accuracy: 0.8645 - val_loss: 0.3257 - val_accuracy: 0.8573\n",
            "Epoch 6/10\n",
            "391/391 [==============================] - 26s 65ms/step - loss: 0.3075 - accuracy: 0.8679 - val_loss: 0.3432 - val_accuracy: 0.8583\n",
            "Epoch 7/10\n",
            "391/391 [==============================] - 25s 64ms/step - loss: 0.3072 - accuracy: 0.8674 - val_loss: 0.3249 - val_accuracy: 0.8578\n",
            "Epoch 8/10\n",
            "391/391 [==============================] - 26s 66ms/step - loss: 0.3037 - accuracy: 0.8702 - val_loss: 0.3238 - val_accuracy: 0.8521\n",
            "Epoch 9/10\n",
            "391/391 [==============================] - 26s 66ms/step - loss: 0.3060 - accuracy: 0.8677 - val_loss: 0.3333 - val_accuracy: 0.8620\n",
            "Epoch 10/10\n",
            "391/391 [==============================] - 25s 63ms/step - loss: 0.3024 - accuracy: 0.8708 - val_loss: 0.3278 - val_accuracy: 0.8578\n"
          ]
        }
      ],
      "source": [
        "history = model.fit(train_dataset, epochs=10,\n",
        "validation_data=test_dataset,\n",
        "validation_steps=30)"
      ]
    },
    {
      "cell_type": "code",
      "execution_count": null,
      "metadata": {
        "colab": {
          "base_uri": "https://localhost:8080/"
        },
        "id": "WJ6txQqIZPJH",
        "outputId": "c8be0af3-a06d-4708-d8c0-9b1bfd005901"
      },
      "outputs": [
        {
          "name": "stdout",
          "output_type": "stream",
          "text": [
            "391/391 [==============================] - 12s 31ms/step - loss: 0.3237 - accuracy: 0.8619\n",
            "Test Loss: 0.3236822485923767\n",
            "Test Accuracy: 0.8619199991226196\n"
          ]
        }
      ],
      "source": [
        "test_loss, test_acc = model.evaluate(test_dataset)#evaluasi\n",
        "\n",
        "print('Test Loss:', test_loss)\n",
        "print('Test Accuracy:', test_acc)"
      ]
    },
    {
      "cell_type": "code",
      "execution_count": null,
      "metadata": {
        "colab": {
          "base_uri": "https://localhost:8080/",
          "height": 414
        },
        "id": "25RweSGYZYI_",
        "outputId": "1b3a94cf-0b22-409f-d5a9-e53841024872"
      },
      "outputs": [
        {
          "data": {
            "text/plain": [
              "(0.0, 0.623177683353424)"
            ]
          },
          "execution_count": 57,
          "metadata": {},
          "output_type": "execute_result"
        },
        {
          "data": {
            "image/png": "[encoded data removed]",
            "text/plain": [
              "<Figure size 1600x800 with 2 Axes>"
            ]
          },
          "metadata": {},
          "output_type": "display_data"
        }
      ],
      "source": [
        "plt.figure(figsize=(16, 8))\n",
        "plt.subplot(1, 2, 1)\n",
        "plot_graphs(history, 'accuracy')\n",
        "plt.ylim(None, 1)\n",
        "plt.subplot(1, 2, 2)\n",
        "plot_graphs(history, 'loss')\n",
        "plt.ylim(0, None)"
      ]
    },
    {
      "cell_type": "markdown",
      "source": [
        "# **Penjelasan**\n",
        "Nilai accuracy semakin naik seiring dengan berjalannya epoch, sedangkan loss/kerugian terus berkurang seiring berjalannya epoch\n",
        "\n",
        "- Accuracy : akurasi model pada data pelatihan selama berjalannya epoch. Jika akurasi pelatihan terus meningkat seiring berjalannya epoch, itu menunjukkan bahwa model belajar dengan baik dari data pelatihan.\n",
        "\n",
        "- Val Accuracy : akurasi model pada data validasi yang merupakan data yang tidak digunakan dalam pelatihan. Jika akurasi validasi naik bersamaan dengan akurasi pelatihan, itu menunjukkan bahwa model dapat menggeneralisasi dengan baik ke data yang belum pernah dilihat sebelumnya.\n",
        "\n",
        "- Loss: Nilai kehilangan model pada data pelatihan seiring berjalannya epoch. Jika nilai loss pelatihan terus menurun seiring dengan peningkatan jumlah epoch, itu menunjukkan bahwa model terus mempelajari data pelatihan.\n",
        "\n",
        "- Val Loss: Validation loss adalah nilai kehilangan model pada data validasi yang merupakan data yang tidak digunakan dalam pelatihan. Jika nilai validation loss juga menurun seiring dengan peningkatan epoch, itu menunjukkan bahwa model dapat melakukan generalisasi dengan baik pada data yang belum pernah dilihat sebelumnya."
      ],
      "metadata": {
        "id": "AcMKAyFAWSBo"
      }
    },
    {
      "cell_type": "code",
      "execution_count": null,
      "metadata": {
        "colab": {
          "base_uri": "https://localhost:8080/"
        },
        "id": "zrPUlNOMxz9_",
        "outputId": "5652cbd4-3245-4914-88ce-cfd5c0b06af5"
      },
      "outputs": [
        {
          "name": "stderr",
          "output_type": "stream",
          "text": [
            "WARNING:tensorflow:5 out of the last 7 calls to <function Model.make_predict_function.<locals>.predict_function at 0x7a1d43df3760> triggered tf.function retracing. Tracing is expensive and the excessive number of tracings could be due to (1) creating @tf.function repeatedly in a loop, (2) passing tensors with different shapes, (3) passing Python objects instead of tensors. For (1), please define your @tf.function outside of the loop. For (2), @tf.function has reduce_retracing=True option that can avoid unnecessary retracing. For (3), please refer to https://www.tensorflow.org/guide/function#controlling_retracing and https://www.tensorflow.org/api_docs/python/tf/function for  more details.\n"
          ]
        },
        {
          "name": "stdout",
          "output_type": "stream",
          "text": [
            "1/1 [==============================] - 4s 4s/step\n"
          ]
        }
      ],
      "source": [
        "sample_text = ('The movie was cool. The animation and the graphics ''were out of this world. I would recommend this movie.')\n",
        "predictions = model.predict(np.array([sample_text]))"
      ]
    },
    {
      "cell_type": "markdown",
      "source": [
        "# **Penjelasan**\n",
        "Hasil \"1/1\" menunjukkan bahwa model memprediksi teks tersebut sebagai sentimen positif dan prediksinya benar.\n",
        "\n",
        "# **Stack Two or More LSTM Layers**"
      ],
      "metadata": {
        "id": "4t8Cxv9cYR9W"
      }
    },
    {
      "cell_type": "code",
      "execution_count": null,
      "metadata": {
        "id": "YYd9LweyyQHO"
      },
      "outputs": [],
      "source": [
        "model = tf.keras.Sequential([\n",
        "encoder,\n",
        "tf.keras.layers.Embedding(len(encoder.get_vocabulary()), 64, mask_zero=True),\n",
        "tf.keras.layers.Bidirectional(tf.keras.layers.LSTM(64, return_sequences=True)),\n",
        "tf.keras.layers.Bidirectional(tf.keras.layers.LSTM(32)),\n",
        "tf.keras.layers.Dense(64, activation='relu'),\n",
        "tf.keras.layers.Dropout(0.5),\n",
        "tf.keras.layers.Dense(1)\n",
        "])"
      ]
    },
    {
      "cell_type": "code",
      "execution_count": null,
      "metadata": {
        "id": "KzphLqktywKL"
      },
      "outputs": [],
      "source": [
        "model.compile(loss=tf.keras.losses.BinaryCrossentropy(from_logits=True),\n",
        "optimizer=tf.keras.optimizers.Adam(1e-4),\n",
        "metrics=['accuracy'])"
      ]
    },
    {
      "cell_type": "code",
      "execution_count": null,
      "metadata": {
        "colab": {
          "base_uri": "https://localhost:8080/"
        },
        "id": "Wv5DI15Cy8Ri",
        "outputId": "1b16b6fb-3f55-4f4f-9efa-cac217a6f184"
      },
      "outputs": [
        {
          "name": "stdout",
          "output_type": "stream",
          "text": [
            "Epoch 1/10\n",
            "391/391 [==============================] - 78s 157ms/step - loss: 0.6260 - accuracy: 0.5853 - val_loss: 0.4469 - val_accuracy: 0.7917\n",
            "Epoch 2/10\n",
            "391/391 [==============================] - 45s 115ms/step - loss: 0.3970 - accuracy: 0.8290 - val_loss: 0.3554 - val_accuracy: 0.8490\n",
            "Epoch 3/10\n",
            "391/391 [==============================] - 46s 118ms/step - loss: 0.3416 - accuracy: 0.8556 - val_loss: 0.3381 - val_accuracy: 0.8521\n",
            "Epoch 4/10\n",
            "391/391 [==============================] - 56s 142ms/step - loss: 0.3188 - accuracy: 0.8640 - val_loss: 0.3230 - val_accuracy: 0.8568\n",
            "Epoch 5/10\n",
            "391/391 [==============================] - 47s 120ms/step - loss: 0.3108 - accuracy: 0.8676 - val_loss: 0.3302 - val_accuracy: 0.8578\n",
            "Epoch 6/10\n",
            "391/391 [==============================] - 45s 116ms/step - loss: 0.3079 - accuracy: 0.8673 - val_loss: 0.3280 - val_accuracy: 0.8620\n",
            "Epoch 7/10\n",
            "391/391 [==============================] - 46s 118ms/step - loss: 0.3048 - accuracy: 0.8696 - val_loss: 0.3319 - val_accuracy: 0.8609\n",
            "Epoch 8/10\n",
            "391/391 [==============================] - 47s 119ms/step - loss: 0.2994 - accuracy: 0.8724 - val_loss: 0.3284 - val_accuracy: 0.8406\n",
            "Epoch 9/10\n",
            "391/391 [==============================] - 47s 120ms/step - loss: 0.2967 - accuracy: 0.8738 - val_loss: 0.3325 - val_accuracy: 0.8333\n",
            "Epoch 10/10\n",
            "391/391 [==============================] - 45s 115ms/step - loss: 0.2932 - accuracy: 0.8734 - val_loss: 0.3263 - val_accuracy: 0.8599\n"
          ]
        }
      ],
      "source": [
        "history = model.fit(train_dataset, epochs=10,\n",
        "validation_data=test_dataset,\n",
        "validation_steps=30)"
      ]
    },
    {
      "cell_type": "code",
      "execution_count": null,
      "metadata": {
        "colab": {
          "base_uri": "https://localhost:8080/"
        },
        "id": "i97F3XIHy_p0",
        "outputId": "9b2e8ee6-72c2-4322-ccf9-1b3ee697e345"
      },
      "outputs": [
        {
          "name": "stdout",
          "output_type": "stream",
          "text": [
            "391/391 [==============================] - 19s 50ms/step - loss: 0.3191 - accuracy: 0.8614\n",
            "Test Loss: 0.3191221356391907\n",
            "Test Accuracy: 0.8614000082015991\n"
          ]
        }
      ],
      "source": [
        "test_loss, test_acc = model.evaluate(test_dataset)\n",
        "\n",
        "print('Test Loss:', test_loss)\n",
        "print('Test Accuracy:', test_acc)"
      ]
    },
    {
      "cell_type": "code",
      "execution_count": null,
      "metadata": {
        "colab": {
          "base_uri": "https://localhost:8080/"
        },
        "id": "POO-zSirzqBo",
        "outputId": "1cfb949c-0516-4629-bf9e-07d71fb323e2"
      },
      "outputs": [
        {
          "name": "stderr",
          "output_type": "stream",
          "text": [
            "WARNING:tensorflow:6 out of the last 8 calls to <function Model.make_predict_function.<locals>.predict_function at 0x7a1d43a2d900> triggered tf.function retracing. Tracing is expensive and the excessive number of tracings could be due to (1) creating @tf.function repeatedly in a loop, (2) passing tensors with different shapes, (3) passing Python objects instead of tensors. For (1), please define your @tf.function outside of the loop. For (2), @tf.function has reduce_retracing=True option that can avoid unnecessary retracing. For (3), please refer to https://www.tensorflow.org/guide/function#controlling_retracing and https://www.tensorflow.org/api_docs/python/tf/function for  more details.\n"
          ]
        },
        {
          "name": "stdout",
          "output_type": "stream",
          "text": [
            "1/1 [==============================] - 6s 6s/step\n",
            "[[-1.9903286]]\n"
          ]
        }
      ],
      "source": [
        "# predict on a sample text without padding.\n",
        "\n",
        "sample_text = ('The movie was not good. The animation and the graphics '\n",
        "'were terrible. I would not recommend this movie.')\n",
        "predictions = model.predict(np.array([sample_text]))\n",
        "print(predictions)"
      ]
    },
    {
      "cell_type": "markdown",
      "source": [
        "# **Penjelasan**\n",
        "Penilaian model rendah terhadap teks"
      ],
      "metadata": {
        "id": "-5VxLWMlYt8r"
      }
    },
    {
      "cell_type": "code",
      "execution_count": null,
      "metadata": {
        "colab": {
          "base_uri": "https://localhost:8080/",
          "height": 308
        },
        "id": "64DeUU7Fz47k",
        "outputId": "de41369d-8bfc-4b36-c4c2-840868bc6a01"
      },
      "outputs": [
        {
          "data": {
            "image/png": "[encoded data removed]",
            "text/plain": [
              "<Figure size 1600x600 with 2 Axes>"
            ]
          },
          "metadata": {},
          "output_type": "display_data"
        }
      ],
      "source": [
        "plt.figure(figsize=(16, 6))\n",
        "plt.subplot(1, 2, 1)\n",
        "plot_graphs(history, 'accuracy')\n",
        "plt.subplot(1, 2, 2)\n",
        "plot_graphs(history, 'loss')"
      ]
    },
    {
      "cell_type": "markdown",
      "source": [
        "# **Penjelasan**\n",
        "- Accuracy : akurasi model pada data pelatihan selama berjalannya epoch. Jika akurasi pelatihan terus meningkat seiring berjalannya epoch, itu menunjukkan bahwa model belajar dengan baik dari data pelatihan.\n",
        "\n",
        "- Val Accuracy : akurasi model pada data validasi yang merupakan data yang tidak digunakan dalam pelatihan. Jika akurasi validasi naik bersamaan dengan akurasi pelatihan, itu menunjukkan bahwa model dapat menggeneralisasi dengan baik ke data yang belum pernah dilihat sebelumnya.\n",
        "\n",
        "- Loss: Nilai kehilangan model pada data pelatihan seiring berjalannya epoch. Jika nilai loss pelatihan terus menurun seiring dengan peningkatan jumlah epoch, itu menunjukkan bahwa model terus mempelajari data pelatihan.\n",
        "\n",
        "- Val Loss: Validation loss adalah nilai kehilangan model pada data validasi yang merupakan data yang tidak digunakan dalam pelatihan. Jika nilai validation loss juga menurun seiring dengan peningkatan epoch, itu menunjukkan bahwa model dapat melakukan generalisasi dengan baik pada data yang belum pernah dilihat sebelumnya."
      ],
      "metadata": {
        "id": "o-EAvoTZZBLl"
      }
    },
    {
      "cell_type": "markdown",
      "metadata": {
        "id": "U2RacVcADnD7"
      },
      "source": [
        "# Praktikum 2\n",
        "Generator Teks dengan RNN"
      ]
    },
    {
      "cell_type": "markdown",
      "source": [
        "**1. Import TensorFlow**"
      ],
      "metadata": {
        "id": "v50T9m4jS1TG"
      }
    },
    {
      "cell_type": "code",
      "execution_count": null,
      "metadata": {
        "id": "YezPckNvDaNN"
      },
      "outputs": [],
      "source": [
        "import tensorflow as tf\n",
        "import numpy as np\n",
        "import os\n",
        "import time"
      ]
    },
    {
      "cell_type": "markdown",
      "source": [
        "**2. Download Dataset Shakespeare**"
      ],
      "metadata": {
        "id": "Zi7zlQHYTAcX"
      }
    },
    {
      "cell_type": "code",
      "execution_count": null,
      "metadata": {
        "colab": {
          "base_uri": "https://localhost:8080/"
        },
        "id": "LgD8QWMbDs0y",
        "outputId": "8e423d14-11ff-44b9-e0cd-46e6593a3906"
      },
      "outputs": [
        {
          "output_type": "stream",
          "name": "stdout",
          "text": [
            "Downloading data from https://storage.googleapis.com/download.tensorflow.org/data/shakespeare.txt\n",
            "1115394/1115394 [==============================] - 0s 0us/step\n"
          ]
        }
      ],
      "source": [
        "path_to_file = tf.keras.utils.get_file('shakespeare.txt', 'https://storage.googleapis.com/download.tensorflow.org/data/shakespeare.txt')"
      ]
    },
    {
      "cell_type": "markdown",
      "source": [
        "**3. Load Data**"
      ],
      "metadata": {
        "id": "wpQ7yMb2TJMS"
      }
    },
    {
      "cell_type": "code",
      "execution_count": null,
      "metadata": {
        "colab": {
          "base_uri": "https://localhost:8080/"
        },
        "id": "0gbvZaeUDu11",
        "outputId": "6a471cf6-4c05-4559-cc84-59b7b206c19c"
      },
      "outputs": [
        {
          "output_type": "stream",
          "name": "stdout",
          "text": [
            "Length of text: 1115394 characters\n"
          ]
        }
      ],
      "source": [
        "# Read, then decode for py2 compat.\n",
        "text = open(path_to_file, 'rb').read().decode(encoding='utf-8')\n",
        "# length of text is the number of characters in it\n",
        "print(f'Length of text: {len(text)} characters')"
      ]
    },
    {
      "cell_type": "code",
      "execution_count": null,
      "metadata": {
        "colab": {
          "base_uri": "https://localhost:8080/"
        },
        "id": "Q4vcUU45EWI1",
        "outputId": "2e72771d-f833-4d97-ab6d-1ba52f8568a0"
      },
      "outputs": [
        {
          "output_type": "stream",
          "name": "stdout",
          "text": [
            "First Citizen:\n",
            "Before we proceed any further, hear me speak.\n",
            "\n",
            "All:\n",
            "Speak, speak.\n",
            "\n",
            "First Citizen:\n",
            "You are all resolved rather to die than to famish?\n",
            "\n",
            "All:\n",
            "Resolved. resolved.\n",
            "\n",
            "First Citizen:\n",
            "First, you know Caius Marcius is chief enemy to the people.\n",
            "\n"
          ]
        }
      ],
      "source": [
        "# Take a look at the first 250 characters in text\n",
        "print(text[:250])"
      ]
    },
    {
      "cell_type": "code",
      "execution_count": null,
      "metadata": {
        "colab": {
          "base_uri": "https://localhost:8080/"
        },
        "id": "ojSRJTLREXxI",
        "outputId": "caafa3ec-a175-4b9f-b88a-15435c60d587"
      },
      "outputs": [
        {
          "output_type": "stream",
          "name": "stdout",
          "text": [
            "65 unique characters\n"
          ]
        }
      ],
      "source": [
        "# The unique characters in the file\n",
        "vocab = sorted(set(text))\n",
        "print(f'{len(vocab)} unique characters')"
      ]
    },
    {
      "cell_type": "markdown",
      "source": [
        "# **Olah Teks**\n",
        "**Vectorize Teks**"
      ],
      "metadata": {
        "id": "ThdyWproTSpr"
      }
    },
    {
      "cell_type": "code",
      "execution_count": null,
      "metadata": {
        "colab": {
          "base_uri": "https://localhost:8080/"
        },
        "id": "4EMVkAHSEZk1",
        "outputId": "021ebd6d-f49e-46bc-a107-2c8e923d6468"
      },
      "outputs": [
        {
          "output_type": "execute_result",
          "data": {
            "text/plain": [
              "<tf.RaggedTensor [[b'a', b'b', b'c', b'd', b'e', b'f', b'g'], [b'x', b'y', b'z']]>"
            ]
          },
          "metadata": {},
          "execution_count": 6
        }
      ],
      "source": [
        "example_texts = ['abcdefg', 'xyz']\n",
        "chars = tf.strings.unicode_split(example_texts, input_encoding='UTF-8')\n",
        "chars"
      ]
    },
    {
      "cell_type": "code",
      "execution_count": null,
      "metadata": {
        "id": "0-MMWQEeEbay"
      },
      "outputs": [],
      "source": [
        "ids_from_chars=tf.keras.layers.StringLookup(vocabulary=list(vocab),mask_token=None)"
      ]
    },
    {
      "cell_type": "code",
      "execution_count": null,
      "metadata": {
        "colab": {
          "base_uri": "https://localhost:8080/"
        },
        "id": "WH1kKVtmEms5",
        "outputId": "63e1b656-8f6d-48ca-b0c3-67c7439700f0"
      },
      "outputs": [
        {
          "output_type": "execute_result",
          "data": {
            "text/plain": [
              "<tf.RaggedTensor [[40, 41, 42, 43, 44, 45, 46], [63, 64, 65]]>"
            ]
          },
          "metadata": {},
          "execution_count": 8
        }
      ],
      "source": [
        "ids=ids_from_chars(chars)\n",
        "ids"
      ]
    },
    {
      "cell_type": "code",
      "execution_count": null,
      "metadata": {
        "id": "DUMOWozUEv47"
      },
      "outputs": [],
      "source": [
        "chars_from_ids = tf.keras.layers.StringLookup(\n",
        "    vocabulary=ids_from_chars.get_vocabulary(), invert=True, mask_token=None)"
      ]
    },
    {
      "cell_type": "code",
      "execution_count": null,
      "metadata": {
        "colab": {
          "base_uri": "https://localhost:8080/"
        },
        "id": "MB1h9MjJEx-H",
        "outputId": "0ac1fa18-5911-4e17-a9bf-2393a85d54b2"
      },
      "outputs": [
        {
          "output_type": "execute_result",
          "data": {
            "text/plain": [
              "<tf.RaggedTensor [[b'a', b'b', b'c', b'd', b'e', b'f', b'g'], [b'x', b'y', b'z']]>"
            ]
          },
          "metadata": {},
          "execution_count": 10
        }
      ],
      "source": [
        "chars=chars_from_ids(ids)\n",
        "chars"
      ]
    },
    {
      "cell_type": "code",
      "execution_count": null,
      "metadata": {
        "colab": {
          "base_uri": "https://localhost:8080/"
        },
        "id": "fERVhRymEzyL",
        "outputId": "2beba1cf-24ec-4911-92f8-edde5786a283"
      },
      "outputs": [
        {
          "output_type": "execute_result",
          "data": {
            "text/plain": [
              "array([b'abcdefg', b'xyz'], dtype=object)"
            ]
          },
          "metadata": {},
          "execution_count": 11
        }
      ],
      "source": [
        "tf.strings.reduce_join(chars,axis=-1).numpy()"
      ]
    },
    {
      "cell_type": "code",
      "execution_count": null,
      "metadata": {
        "id": "Xrfobwc0E25j"
      },
      "outputs": [],
      "source": [
        "def text_from_ids(ids):\n",
        "  return tf.strings.reduce_join(chars_from_ids(ids), axis=-1)"
      ]
    },
    {
      "cell_type": "markdown",
      "source": [
        "# **Prediksi**\n",
        "**Membuat Traning Set dan Target**"
      ],
      "metadata": {
        "id": "4VK7nFNFTkxz"
      }
    },
    {
      "cell_type": "code",
      "execution_count": null,
      "metadata": {
        "colab": {
          "base_uri": "https://localhost:8080/"
        },
        "id": "kHTdurnBE6Ao",
        "outputId": "2fe474bb-58c5-4439-ca24-a917afafa82d"
      },
      "outputs": [
        {
          "output_type": "execute_result",
          "data": {
            "text/plain": [
              "<tf.Tensor: shape=(1115394,), dtype=int64, numpy=array([19, 48, 57, ..., 46,  9,  1])>"
            ]
          },
          "metadata": {},
          "execution_count": 13
        }
      ],
      "source": [
        "all_ids = ids_from_chars(tf.strings.unicode_split(text, 'UTF-8'))\n",
        "all_ids"
      ]
    },
    {
      "cell_type": "code",
      "execution_count": null,
      "metadata": {
        "id": "5uz6-v6dFBg8"
      },
      "outputs": [],
      "source": [
        "ids_dataset= tf.data.Dataset.from_tensor_slices(all_ids)"
      ]
    },
    {
      "cell_type": "code",
      "execution_count": null,
      "metadata": {
        "colab": {
          "base_uri": "https://localhost:8080/"
        },
        "id": "XkTKkKzkFHzb",
        "outputId": "c35a7c98-6935-4cfb-dacd-c2c2aad02d34"
      },
      "outputs": [
        {
          "output_type": "stream",
          "name": "stdout",
          "text": [
            "F\n",
            "i\n",
            "r\n",
            "s\n",
            "t\n",
            " \n",
            "C\n",
            "i\n",
            "t\n",
            "i\n"
          ]
        }
      ],
      "source": [
        "for ids in ids_dataset.take(10):\n",
        "    print(chars_from_ids(ids).numpy().decode('utf-8'))"
      ]
    },
    {
      "cell_type": "code",
      "execution_count": null,
      "metadata": {
        "id": "cdesNtSMFOSo"
      },
      "outputs": [],
      "source": [
        "seq_length = 100"
      ]
    },
    {
      "cell_type": "code",
      "execution_count": null,
      "metadata": {
        "colab": {
          "base_uri": "https://localhost:8080/"
        },
        "id": "OpKLcaBuFQlm",
        "outputId": "e0a3ca11-2661-4e52-ad36-585b24796a7c"
      },
      "outputs": [
        {
          "output_type": "stream",
          "name": "stdout",
          "text": [
            "tf.Tensor(\n",
            "[b'F' b'i' b'r' b's' b't' b' ' b'C' b'i' b't' b'i' b'z' b'e' b'n' b':'\n",
            " b'\\n' b'B' b'e' b'f' b'o' b'r' b'e' b' ' b'w' b'e' b' ' b'p' b'r' b'o'\n",
            " b'c' b'e' b'e' b'd' b' ' b'a' b'n' b'y' b' ' b'f' b'u' b'r' b't' b'h'\n",
            " b'e' b'r' b',' b' ' b'h' b'e' b'a' b'r' b' ' b'm' b'e' b' ' b's' b'p'\n",
            " b'e' b'a' b'k' b'.' b'\\n' b'\\n' b'A' b'l' b'l' b':' b'\\n' b'S' b'p' b'e'\n",
            " b'a' b'k' b',' b' ' b's' b'p' b'e' b'a' b'k' b'.' b'\\n' b'\\n' b'F' b'i'\n",
            " b'r' b's' b't' b' ' b'C' b'i' b't' b'i' b'z' b'e' b'n' b':' b'\\n' b'Y'\n",
            " b'o' b'u' b' '], shape=(101,), dtype=string)\n"
          ]
        }
      ],
      "source": [
        "sequences = ids_dataset.batch(seq_length+1, drop_remainder=True)\n",
        "\n",
        "for seq in sequences.take(1):\n",
        "  print(chars_from_ids(seq))"
      ]
    },
    {
      "cell_type": "code",
      "execution_count": null,
      "metadata": {
        "colab": {
          "base_uri": "https://localhost:8080/"
        },
        "id": "G838QiVSFc36",
        "outputId": "9521108e-7ebb-4d3c-f281-9a4cf1e8c3a5"
      },
      "outputs": [
        {
          "output_type": "stream",
          "name": "stdout",
          "text": [
            "b'First Citizen:\\nBefore we proceed any further, hear me speak.\\n\\nAll:\\nSpeak, speak.\\n\\nFirst Citizen:\\nYou '\n",
            "b'are all resolved rather to die than to famish?\\n\\nAll:\\nResolved. resolved.\\n\\nFirst Citizen:\\nFirst, you k'\n",
            "b\"now Caius Marcius is chief enemy to the people.\\n\\nAll:\\nWe know't, we know't.\\n\\nFirst Citizen:\\nLet us ki\"\n",
            "b\"ll him, and we'll have corn at our own price.\\nIs't a verdict?\\n\\nAll:\\nNo more talking on't; let it be d\"\n",
            "b'one: away, away!\\n\\nSecond Citizen:\\nOne word, good citizens.\\n\\nFirst Citizen:\\nWe are accounted poor citi'\n"
          ]
        }
      ],
      "source": [
        "for seq in sequences.take(5):\n",
        "    print(text_from_ids(seq).numpy())"
      ]
    },
    {
      "cell_type": "code",
      "execution_count": null,
      "metadata": {
        "id": "7ZMjaauIFes8"
      },
      "outputs": [],
      "source": [
        "def split_input_target(sequence):\n",
        "    input_text = sequence[:-1]\n",
        "    target_text = sequence[1:]\n",
        "    return input_text, target_text"
      ]
    },
    {
      "cell_type": "code",
      "execution_count": null,
      "metadata": {
        "colab": {
          "base_uri": "https://localhost:8080/"
        },
        "id": "wDnE9i_sFppy",
        "outputId": "163f6e7c-1d4d-4aad-bef7-66b30f1916a3"
      },
      "outputs": [
        {
          "output_type": "execute_result",
          "data": {
            "text/plain": [
              "(['T', 'e', 'n', 's', 'o', 'r', 'f', 'l', 'o'],\n",
              " ['e', 'n', 's', 'o', 'r', 'f', 'l', 'o', 'w'])"
            ]
          },
          "metadata": {},
          "execution_count": 20
        }
      ],
      "source": [
        "split_input_target(list(\"Tensorflow\"))"
      ]
    },
    {
      "cell_type": "code",
      "execution_count": null,
      "metadata": {
        "id": "wD4IlH5eFsXR"
      },
      "outputs": [],
      "source": [
        "dataset = sequences.map(split_input_target)"
      ]
    },
    {
      "cell_type": "code",
      "execution_count": null,
      "metadata": {
        "colab": {
          "base_uri": "https://localhost:8080/"
        },
        "id": "4H-PjoY_Fwan",
        "outputId": "ef1d6fc0-7900-4d69-b37c-b69ac1d97301"
      },
      "outputs": [
        {
          "output_type": "stream",
          "name": "stdout",
          "text": [
            "Input : b'First Citizen:\\nBefore we proceed any further, hear me speak.\\n\\nAll:\\nSpeak, speak.\\n\\nFirst Citizen:\\nYou'\n",
            "Target: b'irst Citizen:\\nBefore we proceed any further, hear me speak.\\n\\nAll:\\nSpeak, speak.\\n\\nFirst Citizen:\\nYou '\n"
          ]
        }
      ],
      "source": [
        "for input_example, target_example in dataset.take(1):\n",
        "    print(\"Input :\", text_from_ids(input_example).numpy())\n",
        "    print(\"Target:\", text_from_ids(target_example).numpy())"
      ]
    },
    {
      "cell_type": "markdown",
      "source": [
        "**Membuat Batch Training**"
      ],
      "metadata": {
        "id": "bG8gMbvhT07o"
      }
    },
    {
      "cell_type": "code",
      "execution_count": null,
      "metadata": {
        "colab": {
          "base_uri": "https://localhost:8080/"
        },
        "id": "fmrxknQlF30X",
        "outputId": "ab830b27-0112-44c6-e813-0e21aa83d98d"
      },
      "outputs": [
        {
          "output_type": "execute_result",
          "data": {
            "text/plain": [
              "<_PrefetchDataset element_spec=(TensorSpec(shape=(64, 100), dtype=tf.int64, name=None), TensorSpec(shape=(64, 100), dtype=tf.int64, name=None))>"
            ]
          },
          "metadata": {},
          "execution_count": 23
        }
      ],
      "source": [
        "# Batch size\n",
        "BATCH_SIZE = 64\n",
        "\n",
        "# Buffer size to shuffle the dataset\n",
        "# (TF data is designed to work with possibly infinite sequences,\n",
        "# so it doesn't attempt to shuffle the entire sequence in memory. Instead,\n",
        "# it maintains a buffer in which it shuffles elements).\n",
        "BUFFER_SIZE = 10000\n",
        "\n",
        "dataset = (\n",
        "    dataset\n",
        "    .shuffle(BUFFER_SIZE)\n",
        "    .batch(BATCH_SIZE, drop_remainder=True)\n",
        "    .prefetch(tf.data.experimental.AUTOTUNE))\n",
        "\n",
        "dataset"
      ]
    },
    {
      "cell_type": "markdown",
      "source": [
        "**Buat Model**"
      ],
      "metadata": {
        "id": "2Xh1_bl_UlBF"
      }
    },
    {
      "cell_type": "code",
      "execution_count": null,
      "metadata": {
        "id": "A-kV4-JkGD7_"
      },
      "outputs": [],
      "source": [
        "# Length of the vocabulary in StringLookup Layer\n",
        "vocab_size = len(ids_from_chars.get_vocabulary())\n",
        "\n",
        "# The embedding dimension\n",
        "embedding_dim = 256\n",
        "\n",
        "# Number of RNN units\n",
        "rnn_units = 1024"
      ]
    },
    {
      "cell_type": "code",
      "execution_count": null,
      "metadata": {
        "id": "s-5-auf-GGgL"
      },
      "outputs": [],
      "source": [
        "class MyModel(tf.keras.Model):\n",
        "  def __init__(self, vocab_size, embedding_dim, rnn_units):\n",
        "    super().__init__(self)\n",
        "    self.embedding = tf.keras.layers.Embedding(vocab_size, embedding_dim)\n",
        "    self.gru = tf.keras.layers.GRU(rnn_units,\n",
        "                                   return_sequences=True,\n",
        "                                   return_state=True)\n",
        "    self.dense = tf.keras.layers.Dense(vocab_size)\n",
        "\n",
        "  def call(self, inputs, states=None, return_state=False, training=False):\n",
        "    x = inputs\n",
        "    x = self.embedding(x, training=training)\n",
        "    if states is None:\n",
        "      states = self.gru.get_initial_state(x)\n",
        "    x, states = self.gru(x, initial_state=states, training=training)\n",
        "    x = self.dense(x, training=training)\n",
        "\n",
        "    if return_state:\n",
        "      return x, states\n",
        "    else:\n",
        "      return x"
      ]
    },
    {
      "cell_type": "code",
      "execution_count": null,
      "metadata": {
        "id": "AkYLSmFbGIU-"
      },
      "outputs": [],
      "source": [
        "model = MyModel(\n",
        "    vocab_size=vocab_size,\n",
        "    embedding_dim=embedding_dim,\n",
        "    rnn_units=rnn_units)"
      ]
    },
    {
      "cell_type": "markdown",
      "source": [
        "**Uji Model**"
      ],
      "metadata": {
        "id": "68rTwIhbUss8"
      }
    },
    {
      "cell_type": "code",
      "execution_count": null,
      "metadata": {
        "colab": {
          "base_uri": "https://localhost:8080/"
        },
        "id": "1bWe9cNwGKCI",
        "outputId": "c14b1100-8241-4bcc-81ce-2daa705a38a0"
      },
      "outputs": [
        {
          "output_type": "stream",
          "name": "stdout",
          "text": [
            "(64, 100, 66) # (batch_size, sequence_length, vocab_size)\n"
          ]
        }
      ],
      "source": [
        "for input_example_batch, target_example_batch in dataset.take(1):\n",
        "    example_batch_predictions = model(input_example_batch)\n",
        "    print(example_batch_predictions.shape, \"# (batch_size, sequence_length, vocab_size)\")"
      ]
    },
    {
      "cell_type": "code",
      "execution_count": null,
      "metadata": {
        "id": "istoKlSgGL6Y",
        "colab": {
          "base_uri": "https://localhost:8080/"
        },
        "outputId": "797740a0-96a4-4537-9c59-95c4641f9ac9"
      },
      "outputs": [
        {
          "output_type": "stream",
          "name": "stdout",
          "text": [
            "Model: \"my_model\"\n",
            "_________________________________________________________________\n",
            " Layer (type)                Output Shape              Param #   \n",
            "=================================================================\n",
            " embedding (Embedding)       multiple                  16896     \n",
            "                                                                 \n",
            " gru (GRU)                   multiple                  3938304   \n",
            "                                                                 \n",
            " dense (Dense)               multiple                  67650     \n",
            "                                                                 \n",
            "=================================================================\n",
            "Total params: 4022850 (15.35 MB)\n",
            "Trainable params: 4022850 (15.35 MB)\n",
            "Non-trainable params: 0 (0.00 Byte)\n",
            "_________________________________________________________________\n"
          ]
        }
      ],
      "source": [
        "model.summary()"
      ]
    },
    {
      "cell_type": "code",
      "source": [
        "sampled_indices = tf.random.categorical(example_batch_predictions[0], num_samples=1)\n",
        "sampled_indices = tf.squeeze(sampled_indices, axis=-1).numpy()"
      ],
      "metadata": {
        "id": "p_YzH9mkILnu"
      },
      "execution_count": null,
      "outputs": []
    },
    {
      "cell_type": "code",
      "source": [
        "sampled_indices"
      ],
      "metadata": {
        "colab": {
          "base_uri": "https://localhost:8080/"
        },
        "id": "I4Lmf2LdIODD",
        "outputId": "0dc8b446-0537-4cab-8a5b-6636c0bf7e1f"
      },
      "execution_count": null,
      "outputs": [
        {
          "output_type": "execute_result",
          "data": {
            "text/plain": [
              "array([35, 56,  8,  0,  6, 41,  6, 23, 44, 10, 49, 31, 52, 32, 33,  2, 54,\n",
              "       33, 26, 43, 30, 64, 35, 28,  2, 45, 43, 12, 17, 31,  3, 21, 57, 45,\n",
              "       19,  0,  2, 32, 52, 21, 25, 11, 36,  0, 16, 55, 42, 41, 46, 29, 65,\n",
              "       45, 64, 29, 44,  6, 44, 17, 41, 31, 35, 42,  9, 61, 11, 65, 17, 56,\n",
              "       16, 31, 32, 24,  9,  6, 51, 51, 60,  5, 16, 22, 64,  7, 36, 11,  0,\n",
              "       30, 20, 14, 19, 45, 59, 63, 64, 14, 46, 63, 22, 28, 39, 37])"
            ]
          },
          "metadata": {},
          "execution_count": 30
        }
      ]
    },
    {
      "cell_type": "code",
      "source": [
        "print(\"Input:\\n\", text_from_ids(input_example_batch[0]).numpy())\n",
        "print()\n",
        "print(\"Next Char Predictions:\\n\", text_from_ids(sampled_indices).numpy())"
      ],
      "metadata": {
        "colab": {
          "base_uri": "https://localhost:8080/"
        },
        "id": "rbSUo-hqIPyE",
        "outputId": "b88cb72b-fb18-4370-c303-6d5083713f24"
      },
      "execution_count": null,
      "outputs": [
        {
          "output_type": "stream",
          "name": "stdout",
          "text": [
            "Input:\n",
            " b'race so pale?\\n\\nKING RICHARD II:\\nBut now the blood of twenty thousand men\\nDid triumph in my face, and'\n",
            "\n",
            "Next Char Predictions:\n",
            " b\"Vq-[UNK]'b'Je3jRmST oTMdQyVO fd;DR!HrfF[UNK] SmHL:W[UNK]CpcbgPzfyPe'eDbRVc.v:zDqCRSK.'llu&CIy,W:[UNK]QGAFftxyAgxIOZX\"\n"
          ]
        }
      ]
    },
    {
      "cell_type": "markdown",
      "source": [
        "# **Train Model**\n",
        "**Tambahan Optimizer dan Fungsi Loss**"
      ],
      "metadata": {
        "id": "QScukKouUzGT"
      }
    },
    {
      "cell_type": "code",
      "source": [
        "loss = tf.losses.SparseCategoricalCrossentropy(from_logits=True)"
      ],
      "metadata": {
        "id": "P5Bcp1DFISKA"
      },
      "execution_count": null,
      "outputs": []
    },
    {
      "cell_type": "code",
      "source": [
        "example_batch_mean_loss = loss(target_example_batch, example_batch_predictions)\n",
        "print(\"Prediction shape: \", example_batch_predictions.shape, \" # (batch_size, sequence_length, vocab_size)\")\n",
        "print(\"Mean loss:        \", example_batch_mean_loss)"
      ],
      "metadata": {
        "colab": {
          "base_uri": "https://localhost:8080/"
        },
        "id": "U3V1dA8CIUem",
        "outputId": "8d71c565-9da1-49c8-b150-654428269328"
      },
      "execution_count": null,
      "outputs": [
        {
          "output_type": "stream",
          "name": "stdout",
          "text": [
            "Prediction shape:  (64, 100, 66)  # (batch_size, sequence_length, vocab_size)\n",
            "Mean loss:         tf.Tensor(4.1885324, shape=(), dtype=float32)\n"
          ]
        }
      ]
    },
    {
      "cell_type": "code",
      "source": [
        "tf.exp(example_batch_mean_loss).numpy()"
      ],
      "metadata": {
        "colab": {
          "base_uri": "https://localhost:8080/"
        },
        "id": "S0uB_uyiIWMX",
        "outputId": "9f9951cb-377f-4e0c-b778-70f7738eace1"
      },
      "execution_count": null,
      "outputs": [
        {
          "output_type": "execute_result",
          "data": {
            "text/plain": [
              "65.925964"
            ]
          },
          "metadata": {},
          "execution_count": 34
        }
      ]
    },
    {
      "cell_type": "code",
      "source": [
        "model.compile(optimizer='adam', loss=loss)"
      ],
      "metadata": {
        "id": "15IL3oCmIYhn"
      },
      "execution_count": null,
      "outputs": []
    },
    {
      "cell_type": "markdown",
      "source": [
        "**Konfigurasi Checkpoints**"
      ],
      "metadata": {
        "id": "viRT1OG-U_sR"
      }
    },
    {
      "cell_type": "code",
      "source": [
        "# Directory where the checkpoints will be saved\n",
        "checkpoint_dir = './training_checkpoints'\n",
        "# Name of the checkpoint files\n",
        "checkpoint_prefix = os.path.join(checkpoint_dir, \"ckpt_{epoch}\")\n",
        "\n",
        "checkpoint_callback = tf.keras.callbacks.ModelCheckpoint(\n",
        "    filepath=checkpoint_prefix,\n",
        "    save_weights_only=True)"
      ],
      "metadata": {
        "id": "FbatOZyzIcD_"
      },
      "execution_count": null,
      "outputs": []
    },
    {
      "cell_type": "markdown",
      "source": [
        "**Lakukan Proses Training**"
      ],
      "metadata": {
        "id": "BSlFTM0nVFlU"
      }
    },
    {
      "cell_type": "code",
      "source": [
        "EPOCHS = 20"
      ],
      "metadata": {
        "id": "TH_ipHkoIdDb"
      },
      "execution_count": null,
      "outputs": []
    },
    {
      "cell_type": "code",
      "source": [
        "history = model.fit(dataset, epochs=EPOCHS, callbacks=[checkpoint_callback])"
      ],
      "metadata": {
        "colab": {
          "base_uri": "https://localhost:8080/"
        },
        "id": "cVJyeRTiIgMp",
        "outputId": "1361835e-a813-47da-865e-4eb273eea29f"
      },
      "execution_count": null,
      "outputs": [
        {
          "output_type": "stream",
          "name": "stdout",
          "text": [
            "Epoch 1/20\n",
            "172/172 [==============================] - 15s 55ms/step - loss: 2.7469\n",
            "Epoch 2/20\n",
            "172/172 [==============================] - 11s 54ms/step - loss: 2.0076\n",
            "Epoch 3/20\n",
            "172/172 [==============================] - 11s 55ms/step - loss: 1.7247\n",
            "Epoch 4/20\n",
            "172/172 [==============================] - 11s 56ms/step - loss: 1.5595\n",
            "Epoch 5/20\n",
            "172/172 [==============================] - 11s 57ms/step - loss: 1.4590\n",
            "Epoch 6/20\n",
            "172/172 [==============================] - 11s 58ms/step - loss: 1.3906\n",
            "Epoch 7/20\n",
            "172/172 [==============================] - 12s 59ms/step - loss: 1.3373\n",
            "Epoch 8/20\n",
            "172/172 [==============================] - 12s 60ms/step - loss: 1.2926\n",
            "Epoch 9/20\n",
            "172/172 [==============================] - 11s 57ms/step - loss: 1.2506\n",
            "Epoch 10/20\n",
            "172/172 [==============================] - 11s 58ms/step - loss: 1.2112\n",
            "Epoch 11/20\n",
            "172/172 [==============================] - 12s 58ms/step - loss: 1.1728\n",
            "Epoch 12/20\n",
            "172/172 [==============================] - 11s 57ms/step - loss: 1.1316\n",
            "Epoch 13/20\n",
            "172/172 [==============================] - 12s 59ms/step - loss: 1.0886\n",
            "Epoch 14/20\n",
            "172/172 [==============================] - 12s 60ms/step - loss: 1.0444\n",
            "Epoch 15/20\n",
            "172/172 [==============================] - 12s 59ms/step - loss: 0.9966\n",
            "Epoch 16/20\n",
            "172/172 [==============================] - 12s 58ms/step - loss: 0.9462\n",
            "Epoch 17/20\n",
            "172/172 [==============================] - 11s 58ms/step - loss: 0.8952\n",
            "Epoch 18/20\n",
            "172/172 [==============================] - 12s 58ms/step - loss: 0.8425\n",
            "Epoch 19/20\n",
            "172/172 [==============================] - 12s 61ms/step - loss: 0.7907\n",
            "Epoch 20/20\n",
            "172/172 [==============================] - 12s 59ms/step - loss: 0.7422\n"
          ]
        }
      ]
    },
    {
      "cell_type": "markdown",
      "source": [
        "**Generate Teks**"
      ],
      "metadata": {
        "id": "DnJGzfQTVMCW"
      }
    },
    {
      "cell_type": "code",
      "source": [
        "class OneStep(tf.keras.Model):\n",
        "  def __init__(self, model, chars_from_ids, ids_from_chars, temperature=1.0):\n",
        "    super().__init__()\n",
        "    self.temperature = temperature\n",
        "    self.model = model\n",
        "    self.chars_from_ids = chars_from_ids\n",
        "    self.ids_from_chars = ids_from_chars\n",
        "\n",
        "    # Create a mask to prevent \"[UNK]\" from being generated.\n",
        "    skip_ids = self.ids_from_chars(['[UNK]'])[:, None]\n",
        "    sparse_mask = tf.SparseTensor(\n",
        "        # Put a -inf at each bad index.\n",
        "        values=[-float('inf')]*len(skip_ids),\n",
        "        indices=skip_ids,\n",
        "        # Match the shape to the vocabulary\n",
        "        dense_shape=[len(ids_from_chars.get_vocabulary())])\n",
        "    self.prediction_mask = tf.sparse.to_dense(sparse_mask)\n",
        "\n",
        "  @tf.function\n",
        "  def generate_one_step(self, inputs, states=None):\n",
        "    # Convert strings to token IDs.\n",
        "    input_chars = tf.strings.unicode_split(inputs, 'UTF-8')\n",
        "    input_ids = self.ids_from_chars(input_chars).to_tensor()\n",
        "\n",
        "    # Run the model.\n",
        "    # predicted_logits.shape is [batch, char, next_char_logits]\n",
        "    predicted_logits, states = self.model(inputs=input_ids, states=states,\n",
        "                                          return_state=True)\n",
        "    # Only use the last prediction.\n",
        "    predicted_logits = predicted_logits[:, -1, :]\n",
        "    predicted_logits = predicted_logits/self.temperature\n",
        "    # Apply the prediction mask: prevent \"[UNK]\" from being generated.\n",
        "    predicted_logits = predicted_logits + self.prediction_mask\n",
        "\n",
        "    # Sample the output logits to generate token IDs.\n",
        "    predicted_ids = tf.random.categorical(predicted_logits, num_samples=1)\n",
        "    predicted_ids = tf.squeeze(predicted_ids, axis=-1)\n",
        "\n",
        "    # Convert from token ids to characters\n",
        "    predicted_chars = self.chars_from_ids(predicted_ids)\n",
        "\n",
        "    # Return the characters and model state.\n",
        "    return predicted_chars, states"
      ],
      "metadata": {
        "id": "7LzTDaK9IiDc"
      },
      "execution_count": null,
      "outputs": []
    },
    {
      "cell_type": "code",
      "source": [
        "one_step_model = OneStep(model, chars_from_ids, ids_from_chars)"
      ],
      "metadata": {
        "id": "mc0Imh2qJnDy"
      },
      "execution_count": null,
      "outputs": []
    },
    {
      "cell_type": "code",
      "source": [
        "start = time.time()\n",
        "states = None\n",
        "next_char = tf.constant(['ROMEO:'])\n",
        "result = [next_char]\n",
        "\n",
        "for n in range(1000):\n",
        "  next_char, states = one_step_model.generate_one_step(next_char, states=states)\n",
        "  result.append(next_char)\n",
        "\n",
        "result = tf.strings.join(result)\n",
        "end = time.time()\n",
        "print(result[0].numpy().decode('utf-8'), '\\n\\n' + '_'*80)\n",
        "print('\\nRun time:', end - start)"
      ],
      "metadata": {
        "colab": {
          "base_uri": "https://localhost:8080/"
        },
        "id": "myAEON6nJqJO",
        "outputId": "af302a44-9558-40c7-b4b1-4de06ab65e95"
      },
      "execution_count": null,
      "outputs": [
        {
          "output_type": "stream",
          "name": "stdout",
          "text": [
            "ROMEO:\n",
            "But all in all that I am here.\n",
            "Here in LiUCESTER:\n",
            "And that thy fortunes were better to look voil,\n",
            "Whate'er thou wert this, boy, impatiented with a quarrel.\n",
            "\n",
            "CAPULET:\n",
            "And but the kiter for the world Keeps is yet blown\n",
            "to tilous forted her to beat born to do't.\n",
            "\n",
            "MENENIUS:\n",
            "Ons true; Lewis'd princiscomp, and terrison thee.\n",
            "\n",
            "Gentleman:\n",
            "I would King Henry's groats, imprigoning ourselves rise:\n",
            "Hold, all agrees, treasonable accusers!\n",
            "\n",
            "CAPULET:\n",
            "Well, beling thee. Where is the singul of the king?\n",
            "\n",
            "NORTHUMBERLAND:\n",
            "How now! most true!\n",
            "\n",
            "AUTOLYCUS:\n",
            "I am going to that, so: indeed, I hope to stood to me;\n",
            "And, sweeter, you dreamt, being plague these golden heart\n",
            "Unto dimmise; or else derived you\n",
            "Of all esselved.\n",
            "\n",
            "SEBASTIAN:\n",
            "What, are you set at once; unmuches with\n",
            "numbering stars? on 'twas no poor Here imperate peace\n",
            "Paunded a million of healthood in the shadow\n",
            "That were some spite of their a, he looks\n",
            "In lost sheep, let them be, and me\n",
            "And Richard leave of a well; and love thee,\n",
            "Avoint the nothing tr \n",
            "\n",
            "________________________________________________________________________________\n",
            "\n",
            "Run time: 5.658695220947266\n"
          ]
        }
      ]
    },
    {
      "cell_type": "code",
      "source": [
        "start = time.time()\n",
        "states = None\n",
        "next_char = tf.constant(['ROMEO:', 'ROMEO:', 'ROMEO:', 'ROMEO:', 'ROMEO:'])\n",
        "result = [next_char]\n",
        "\n",
        "for n in range(1000):\n",
        "  next_char, states = one_step_model.generate_one_step(next_char, states=states)\n",
        "  result.append(next_char)\n",
        "\n",
        "result = tf.strings.join(result)\n",
        "end = time.time()\n",
        "print(result, '\\n\\n' + '_'*80)\n",
        "print('\\nRun time:', end - start)"
      ],
      "metadata": {
        "colab": {
          "base_uri": "https://localhost:8080/"
        },
        "id": "Dit65hdvJxHp",
        "outputId": "f2f05d4d-1820-4f89-c14c-211cdeed4963"
      },
      "execution_count": null,
      "outputs": [
        {
          "output_type": "stream",
          "name": "stdout",
          "text": [
            "tf.Tensor(\n",
            "[b\"ROMEO:\\nI shall pospect to you, in the earth owed;\\nat their crownsing troops that ever he kill'd\\nWhen badies in mock'd while Lauren Margaret\\nOf all echoss'd office Putis show'd in thee,\\nFarewell; repeal'st too grief as he kept not to be gone?\\n\\nGREMIO:\\nMy gracious sixteen years,\\nI cannot believe you. Take up,\\nI will appeach and thine own willowings thou.\\nNay, we must not--he, in the cheeks of him,\\nFor it is not for the appetitoo; which,\\nGod and up his bone.\\n\\nESCALUS:\\nI think, you now go with you; I will not: besides, they lie with thee but ta'en\\nTo Richmond. Baducle!\\nNept not of all whights he know\\nOf all the purple thanks I have true attend on the face\\nTo set the curt a-go, but only so foul with,--\\n\\nSEBASTIAN:\\nIt is no less than he.\\n\\nBoth: Waste!\\nShe's very well; for whom we came to shame thee,\\nAnd be no tall in nor he sleep. There is mad, an\\naccured begin our courtabity.\\n\\nSOMERSET:\\nAh, Would all dead will hear you thanks?\\n\\nPROSPERO:\\nKnow thunder, Petruchio! Thou art to London:\\nAnd so will I;\"\n",
            " b\"ROMEO:\\nThe lords of Rome, you do wring forth.\\nWomen's vailed queen and pocion.\\nSir, I have mercy'd you.\\n\\nISABELLA:\\nMost satisfortune, being that, with one in hand,\\nPlape him, with must win a round with both, or a kind,\\nOr What I say. I have set him; or in prison,\\nhonest childity, so those wives are substantial brows,\\nAn of the all-being death's intenting intents!\\nCome, my noble lords, gave him joy to your up:\\nI paint him when we awake,\\nAnd then condition, that Rome is ready.\\n\\nDUKE VINCENTIO:\\nOath of it, and be not a shame.\\nWhat! this is a hatrico, truly I will create thee sailing,\\nUnhappy Plantagenet!\\n\\nHASTINGS:\\nI take my leave for any noble dream,\\nAnd meaner temptherable state, yet their own loving\\nOf what bare false foots, being ready for their way.\\nDine into a rapar, a\\nvice things and aged in all allow'd,\\nHis wager mork'd about their intents.\\n\\nKING RICHARD III:\\nO heavy didst thou see--\\nFoul weeping attend him at this beast,\\nAnd teach a wish of sisters stragge,\\nWith such neeking of the cou\"\n",
            " b\"ROMEO:\\nO life and a scholar,--\\n\\nQUEEN ELIZABETH:\\nBut to the royal displocess in thy life,\\nTears that are too noble and like me.\\n\\nBIONDELLO:\\nI fear, I'll play at once but od\\nyour will, for you would he begin.\\n\\nGREMIO:\\nYes, I knew thy salour! now the king is not you sail.\\n\\nWARWICK:\\nPlantageat, as that all this while thou luvy\\nAnd a Volsce, in a life of eight, lord sweet,\\nThine only affection contracts, I have been\\nThe vaulty one should be there in recker of poison:\\nPoor heart's love I bear my good love, and give the term\\nOf a despised love I do so. Let me look so it is.\\nYour royal steed that vicest with speed;\\nThe sweet'st thou not late of these takes?\\n\\nMENENIUS:\\nI'll kill it with you. 'tis a mother;\\n'tis Aufidius, traitor! how shall I strike?\\nThat I mean or touch of it:\\nit is were as a noble gentleman\\nWhom with her, brother, to thy eyes; and lose you\\nafter over the people's opinion, indeed I ingrave\\nAnd one woe for any things after. Come, light. The imperain\\nto look and leave us.\\n\\nPOLIXENES:\\n\"\n",
            " b\"ROMEO:\\nWhy, very well, the horror was but weary of much\\ncross'd: be assured, he cannot live they? reason with\\nhim in the secret charms, that she is far from her\\nAs was your majesty.\\n\\nQUEEN ELIZABETH:\\nWhat sprites and praters? our general I?\\nShould yet break out the noble of this night be\\nblind, I am: as there was so fair a stole,\\nO brate youth and be gone.\\n\\nCitizens:\\nI would do your like or no consave that all-man\\nBred me to see it.\\n\\nESCALUS:\\nBiold! a kneely did to our tent,\\nBroaght me to make up a coward: then I'll join with this varland's happiness\\nIn earn half of my brother.\\n\\nKING HENRY VI:\\nI have done we born but they come byhope, were basilish,\\nThere is too rasholity,\\nWhich, body's thine, they lace at once,\\nConfoundst dogs of commission.\\nKing destined fetch his holy stain'd\\nWith husband, an I ne'er come in repetity\\nUnto too long, but ever to be assured\\nWith good to speak; and that u'll think as you have\\nbrook down to-night when you disdain: mark how to play at once;\\nTo blaze him with ag\"\n",
            " b\"ROMEO:\\nI conduit us to the king!\\nGood Padua have been winter Tranio so set her\\nmy treasonar. But, ay, ay, as thou speak'st\\nmost false; after I have it in eaten come in\\nprofit o' the trick. Thou hast one most strange\\nnew;\\nMy gracious sovereign, for your tongue, you whoreson,\\nWho noise entired in this rescheque that the damn'd in being in\\nAre that make us both pass our tears against\\nMeftain'd things can make her stand,--will be\\nby some fearful thing; yet that our senses\\nIn most williance strike all armosion;\\nHis face at his trenchen Wilt Horrife,\\nSo long disguises out in me alone, if Kate'd my degree\\nMust steal our fowling in the prince: take thee\\nrefuged me here in a loss of subtle frowns:\\nAsk those who did make court her brother,\\nAnd meet me open this was fools;\\nAnd I am corowant where they made thy love\\nTo be only consul: the news full of\\no,\\nproclaim'd senators, poor and possible from such but the absence of the skinary.\\nThere's some apolong wither? wither rust array;\\nDoth not thy soldiers;\"], shape=(5,), dtype=string) \n",
            "\n",
            "________________________________________________________________________________\n",
            "\n",
            "Run time: 6.41340184211731\n"
          ]
        }
      ]
    },
    {
      "cell_type": "markdown",
      "source": [
        "**Ekspor Model Generator**"
      ],
      "metadata": {
        "id": "kPNLw3LBVUIE"
      }
    },
    {
      "cell_type": "code",
      "source": [
        "tf.saved_model.save(one_step_model, 'one_step')\n",
        "one_step_reloaded = tf.saved_model.load('one_step')"
      ],
      "metadata": {
        "colab": {
          "base_uri": "https://localhost:8080/"
        },
        "id": "7swc21tvJ0JM",
        "outputId": "b03d63f6-48d7-485a-f64c-f59d693c28a6"
      },
      "execution_count": null,
      "outputs": [
        {
          "output_type": "stream",
          "name": "stderr",
          "text": [
            "WARNING:tensorflow:Skipping full serialization of Keras layer <__main__.OneStep object at 0x7cf1a237bee0>, because it is not built.\n",
            "WARNING:tensorflow:Model's `__init__()` arguments contain non-serializable objects. Please implement a `get_config()` method in the subclassed Model for proper saving and loading. Defaulting to empty config.\n",
            "WARNING:tensorflow:Model's `__init__()` arguments contain non-serializable objects. Please implement a `get_config()` method in the subclassed Model for proper saving and loading. Defaulting to empty config.\n"
          ]
        }
      ]
    },
    {
      "cell_type": "code",
      "source": [
        "states = None\n",
        "next_char = tf.constant(['ROMEO:'])\n",
        "result = [next_char]\n",
        "\n",
        "for n in range(100):\n",
        "  next_char, states = one_step_reloaded.generate_one_step(next_char, states=states)\n",
        "  result.append(next_char)\n",
        "\n",
        "print(tf.strings.join(result)[0].numpy().decode(\"utf-8\"))"
      ],
      "metadata": {
        "colab": {
          "base_uri": "https://localhost:8080/"
        },
        "id": "ZsWotUXyJ-2n",
        "outputId": "e6101f00-a164-4fcb-a738-a5319f2ded01"
      },
      "execution_count": null,
      "outputs": [
        {
          "output_type": "stream",
          "name": "stdout",
          "text": [
            "ROMEO:\n",
            "He speaks the queen to do him injury to me,\n",
            "He is as tears to stoop with Marvaus I spoke,\n",
            "And yet t\n"
          ]
        }
      ]
    },
    {
      "cell_type": "markdown",
      "source": [
        "# Tugas\n",
        "Gunakan tf.GradientTape untuk men track nilai gradient. Anda dapat mempelajari lebih lanjut tentang pendekatan ini dengan membaca eager execution guide. Prosedurnya adalah \"\n",
        "\n",
        "1. Jalankan Model dan hitung loss dengan tf.GradientTape.\n",
        "2. Hitung update dan terapkan pada model dengan optimizer"
      ],
      "metadata": {
        "id": "JK0m8s7yl8wG"
      }
    },
    {
      "cell_type": "code",
      "source": [
        "class CustomTraining(MyModel):#mendefinisikan kelas CustomTraining yang merupakan turunan dari MyModel\n",
        "     @tf.function\n",
        "     def train_step(self, inputs):#digunakan untuk melatih model dengan satu langkah (step) selama proses pelatihan\n",
        "        inputs, labels = inputs#memisahkan inputs menjadi inputs dan labels. inputs adalah masukan model, dan labels adalah target yang seharusnya diprediksi oleh model.\n",
        "        with tf.GradientTape() as tape:#untuk menghitung gradien (gradient) dari fungsi kerugian terhadap parameter model.\n",
        "            predictions = self(inputs, training=True)#untuk enghasilkan prediksi model\n",
        "            loss = self.loss(labels, predictions)#enghitung nilai kerugian (loss) dengan membandingkan prediksi model dengan label yang seharusnya diprediksi\n",
        "            grads = tape.gradient(loss, model.trainable_variables)#menghitung gradien (gradient) dari kerugian terhadap parameter-parameter yang dapat diubah dalam model (trainable variables)\n",
        "            self.optimizer.apply_gradients(zip(grads, model.trainable_variables))#mengaplikasikan gradien ke parameter-parameter model, sehingga model dapat diperbarui selama pelatihan.\n",
        "\n",
        "            return {'loss': loss}#mengembalikan dictionary yang berisi nilai kerugian (loss)"
      ],
      "metadata": {
        "id": "EQa8_-yglukv"
      },
      "execution_count": null,
      "outputs": []
    },
    {
      "cell_type": "code",
      "source": [
        "#membuat objek model dengan menggunakan kelas CustomTraining dengan 3 parameter\n",
        "model = CustomTraining(\n",
        "    vocab_size=len(ids_from_chars.get_vocabulary()),#memberikan informasi berapa banyak karakter yang ada dalam vokabulari model.\n",
        "    embedding_dim=embedding_dim,#dimensi embedding yang digunakan dalam model.\n",
        "    rnn_units=rnn_units)#jumlah unit dalam lapisan RNN model."
      ],
      "metadata": {
        "id": "c7YLa8A3mS5q"
      },
      "execution_count": null,
      "outputs": []
    },
    {
      "cell_type": "code",
      "source": [
        "#compile model\n",
        "model.compile(optimizer = tf.keras.optimizers.Adam(),#digunakan untuk mengoptimalkan parameter-parameter model selama pelatihan\n",
        "              loss=tf.keras.losses.SparseCategoricalCrossentropy(from_logits=True))#menghasilkan logit (skor) langsung, dan kerugian akan menghitung probabilitas berdasarkan logit yang dihasilkan"
      ],
      "metadata": {
        "id": "Lwr3uQQ0mVc6"
      },
      "execution_count": null,
      "outputs": []
    },
    {
      "cell_type": "code",
      "source": [
        "model.fit(dataset, epochs=1)#elatih model Anda selama satu epoch"
      ],
      "metadata": {
        "id": "6bUZXeK-maX_",
        "outputId": "25edd4c0-3d6a-499a-9f33-434ea7dba610",
        "colab": {
          "base_uri": "https://localhost:8080/"
        }
      },
      "execution_count": null,
      "outputs": [
        {
          "output_type": "stream",
          "name": "stdout",
          "text": [
            "172/172 [==============================] - 15s 59ms/step - loss: 2.7076\n"
          ]
        },
        {
          "output_type": "execute_result",
          "data": {
            "text/plain": [
              "<keras.src.callbacks.History at 0x7cf159a46d10>"
            ]
          },
          "metadata": {},
          "execution_count": 48
        }
      ]
    },
    {
      "cell_type": "code",
      "source": [
        "EPOCHS = 10#memberi nilai iterasi epoch\n",
        "\n",
        "mean = tf.metrics.Mean()#ntuk menghitung rata-rata loss selama pelatihan\n",
        "\n",
        "for epoch in range(EPOCHS):#pelatihan\n",
        "    start = time.time()#menghitung berapa lama satu epoch akan berlangsung.\n",
        "\n",
        "    mean.reset_states()#mereset nilai rata-rata loss di awal setiap epoch untuk menghitung rata-rata loss selama epoch tersebut\n",
        "    for (batch_n, (inp, target)) in enumerate(dataset):#oop dalam dataset yang berisi data latihan\n",
        "        logs = model.train_step([inp, target])#melatih model pada batch saat ini. Metode ini mengembalikan nilai loss pada batch tersebut.\n",
        "        mean.update_state(logs['loss'])#memperbarui nilai rata-rata loss dengan loss pada batch saat ini.\n",
        "\n",
        "        if batch_n % 50 == 0:#mencetak loss setiap 50 batch untuk memantau perkembangan pelatihan.\n",
        "            template = f\"Epoch {epoch+1} Batch {batch_n} Loss {logs['loss']:.4f}\"\n",
        "            print(template)\n",
        "\n",
        "    # saving (checkpoint) the model every 5 epochs\n",
        "    if (epoch + 1) % 5 == 0:\n",
        "      model.save_weights(checkpoint_prefix.format(epoch=epoch))#menyimpan parameter-parameter model dalam bentuk checkpoint\n",
        "\n",
        "    print()\n",
        "    print(f'Epoch {epoch+1} Loss: {mean.result().numpy():.4f}')#cetak informasi tentang epoch saat ini, termasuk nomor epoch dan rata-rata loss yang dihasilkan selama epoch tersebut\n",
        "    print(f'Time taken for 1 epoch {time.time() - start:.2f} sec')#cetak berapa lama waktu yang diperlukan untuk menyelesaikan satu epoch dalam detik.\n",
        "    print(\"_\"*80)#cetak garis pemisah berupa karakter garis bawah underscore\n",
        "\n",
        "model.save_weights(checkpoint_prefix.format(epoch=epoch))##menyimpan parameter-parameter model dalam bentuk checkpoint"
      ],
      "metadata": {
        "id": "TnZVktTLmc5H",
        "outputId": "c9a22200-1603-4efc-b037-aded803e97b0",
        "colab": {
          "base_uri": "https://localhost:8080/"
        }
      },
      "execution_count": null,
      "outputs": [
        {
          "output_type": "stream",
          "name": "stdout",
          "text": [
            "Epoch 1 Batch 0 Loss 2.1728\n",
            "Epoch 1 Batch 50 Loss 2.0300\n",
            "Epoch 1 Batch 100 Loss 1.9609\n",
            "Epoch 1 Batch 150 Loss 1.8589\n",
            "\n",
            "Epoch 1 Loss: 1.9900\n",
            "Time taken for 1 epoch 14.89 sec\n",
            "________________________________________________________________________________\n",
            "Epoch 2 Batch 0 Loss 1.8197\n",
            "Epoch 2 Batch 50 Loss 1.7278\n",
            "Epoch 2 Batch 100 Loss 1.6712\n",
            "Epoch 2 Batch 150 Loss 1.6198\n",
            "\n",
            "Epoch 2 Loss: 1.7103\n",
            "Time taken for 1 epoch 11.70 sec\n",
            "________________________________________________________________________________\n",
            "Epoch 3 Batch 0 Loss 1.5891\n",
            "Epoch 3 Batch 50 Loss 1.5697\n",
            "Epoch 3 Batch 100 Loss 1.5639\n",
            "Epoch 3 Batch 150 Loss 1.4916\n",
            "\n",
            "Epoch 3 Loss: 1.5480\n",
            "Time taken for 1 epoch 11.40 sec\n",
            "________________________________________________________________________________\n",
            "Epoch 4 Batch 0 Loss 1.4665\n",
            "Epoch 4 Batch 50 Loss 1.4522\n",
            "Epoch 4 Batch 100 Loss 1.3932\n",
            "Epoch 4 Batch 150 Loss 1.4804\n",
            "\n",
            "Epoch 4 Loss: 1.4481\n",
            "Time taken for 1 epoch 11.17 sec\n",
            "________________________________________________________________________________\n",
            "Epoch 5 Batch 0 Loss 1.4288\n",
            "Epoch 5 Batch 50 Loss 1.3792\n",
            "Epoch 5 Batch 100 Loss 1.3796\n",
            "Epoch 5 Batch 150 Loss 1.3239\n",
            "\n",
            "Epoch 5 Loss: 1.3808\n",
            "Time taken for 1 epoch 11.57 sec\n",
            "________________________________________________________________________________\n",
            "Epoch 6 Batch 0 Loss 1.3505\n",
            "Epoch 6 Batch 50 Loss 1.3460\n",
            "Epoch 6 Batch 100 Loss 1.3586\n",
            "Epoch 6 Batch 150 Loss 1.3351\n",
            "\n",
            "Epoch 6 Loss: 1.3286\n",
            "Time taken for 1 epoch 20.47 sec\n",
            "________________________________________________________________________________\n",
            "Epoch 7 Batch 0 Loss 1.2869\n",
            "Epoch 7 Batch 50 Loss 1.2564\n",
            "Epoch 7 Batch 100 Loss 1.2677\n",
            "Epoch 7 Batch 150 Loss 1.3104\n",
            "\n",
            "Epoch 7 Loss: 1.2842\n",
            "Time taken for 1 epoch 11.05 sec\n",
            "________________________________________________________________________________\n",
            "Epoch 8 Batch 0 Loss 1.2353\n",
            "Epoch 8 Batch 50 Loss 1.2732\n",
            "Epoch 8 Batch 100 Loss 1.2260\n",
            "Epoch 8 Batch 150 Loss 1.2695\n",
            "\n",
            "Epoch 8 Loss: 1.2430\n",
            "Time taken for 1 epoch 11.37 sec\n",
            "________________________________________________________________________________\n",
            "Epoch 9 Batch 0 Loss 1.1683\n",
            "Epoch 9 Batch 50 Loss 1.1868\n",
            "Epoch 9 Batch 100 Loss 1.1967\n",
            "Epoch 9 Batch 150 Loss 1.2033\n",
            "\n",
            "Epoch 9 Loss: 1.2042\n",
            "Time taken for 1 epoch 12.66 sec\n",
            "________________________________________________________________________________\n",
            "Epoch 10 Batch 0 Loss 1.1910\n",
            "Epoch 10 Batch 50 Loss 1.1580\n",
            "Epoch 10 Batch 100 Loss 1.1836\n",
            "Epoch 10 Batch 150 Loss 1.1683\n",
            "\n",
            "Epoch 10 Loss: 1.1643\n",
            "Time taken for 1 epoch 20.61 sec\n",
            "________________________________________________________________________________\n"
          ]
        }
      ]
    },
    {
      "cell_type": "markdown",
      "source": [
        "**Perbedaan dengan praktikum 2**\n",
        "\n",
        "Praktikum 2 menggunakan pendekatan pelatihan yang sederhana dan umum sedangkan tugas menggunakan metode model fit().\n",
        "\n",
        "- Praktikum 2 (Fungsionalitas Keras)\n",
        "Lebih banyak menggunakan fungsionalitas dari TensorFlow, Menggunakan lapisan keras: GRU dan dense yang berguna untuk memudahkan mengelola sebagian besar operasi, model dilatih dengan motode fit(), Potongan kode juga menggunakan callbacks dalam proses pelatihan seperti halnya ModelCheckpoint untuk menyimpan bobot model setelah setiap epoch.\n",
        "- Tugas (Model Custom)\n",
        "menggunakan model secara manual dengan pendekatan yang lebih langsung, Pembuatan Model dan Pelatihan Langsung dengan membuat kelas CustomTraining yang mewarisi MyModel. Kemudian mendefinisikan fungsi train_step secara eksplisit untuk melakukan langkah pelatihan (training step) menggunakan tf.\n",
        "Loop pelatihan eksplisit yang mengatur pelatihan dalam epoch dan batch secara terperinci."
      ],
      "metadata": {
        "id": "xopJnSECnPQW"
      }
    }
  ],
  "metadata": {
    "accelerator": "GPU",
    "colab": {
      "provenance": [],
      "authorship_tag": "ABX9TyPNavlj9jDhsQ4GYEQ1hi5L",
      "include_colab_link": true
    },
    "kernelspec": {
      "display_name": "Python 3",
      "name": "python3"
    },
    "language_info": {
      "name": "python"
    }
  },
  "nbformat": 4,
  "nbformat_minor": 0
}